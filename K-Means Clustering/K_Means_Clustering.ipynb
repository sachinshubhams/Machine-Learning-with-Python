{
  "cells": [
    {
      "cell_type": "code",
      "execution_count": 3,
      "metadata": {
        "id": "Gy-8thF66Aw_"
      },
      "outputs": [],
      "source": [
        "import pandas as pd \n",
        "import numpy as np\n",
        "import matplotlib.pyplot as plt\n",
        "import seaborn as sns\n",
        "import plotly.express as exp\n",
        "from sklearn.cluster import KMeans\n",
        "from sklearn.decomposition import PCA\n",
        "from sklearn.preprocessing import MinMaxScaler"
      ]
    },
    {
      "cell_type": "code",
      "source": [
        "from google.colab import drive\n",
        "drive.mount('/content/drive')"
      ],
      "metadata": {
        "colab": {
          "base_uri": "https://localhost:8080/"
        },
        "id": "MuDBTflN6R23",
        "outputId": "337cd055-c812-416e-b627-e501e9aee6aa"
      },
      "execution_count": 1,
      "outputs": [
        {
          "output_type": "stream",
          "name": "stdout",
          "text": [
            "Mounted at /content/drive\n"
          ]
        }
      ]
    },
    {
      "cell_type": "code",
      "source": [
        "cd 'drive/My Drive'"
      ],
      "metadata": {
        "colab": {
          "base_uri": "https://localhost:8080/"
        },
        "id": "_yEPdT956var",
        "outputId": "dcdc1c81-794f-41de-ddb4-d58f083a775d"
      },
      "execution_count": 2,
      "outputs": [
        {
          "output_type": "stream",
          "name": "stdout",
          "text": [
            "/content/drive/My Drive\n"
          ]
        }
      ]
    },
    {
      "cell_type": "code",
      "execution_count": 4,
      "metadata": {
        "id": "DqAUgFzO6AxB"
      },
      "outputs": [],
      "source": [
        "df = pd.read_csv('dataset/Country-data.csv')"
      ]
    },
    {
      "cell_type": "code",
      "execution_count": null,
      "metadata": {
        "id": "i7RpxJwI6AxB",
        "outputId": "3baf7d23-73f0-4642-d365-5cd2bd671959"
      },
      "outputs": [
        {
          "data": {
            "text/html": [
              "<div>\n",
              "<style scoped>\n",
              "    .dataframe tbody tr th:only-of-type {\n",
              "        vertical-align: middle;\n",
              "    }\n",
              "\n",
              "    .dataframe tbody tr th {\n",
              "        vertical-align: top;\n",
              "    }\n",
              "\n",
              "    .dataframe thead th {\n",
              "        text-align: right;\n",
              "    }\n",
              "</style>\n",
              "<table border=\"1\" class=\"dataframe\">\n",
              "  <thead>\n",
              "    <tr style=\"text-align: right;\">\n",
              "      <th></th>\n",
              "      <th>country</th>\n",
              "      <th>child_mort</th>\n",
              "      <th>exports</th>\n",
              "      <th>health</th>\n",
              "      <th>imports</th>\n",
              "      <th>income</th>\n",
              "      <th>inflation</th>\n",
              "      <th>life_expec</th>\n",
              "      <th>total_fer</th>\n",
              "      <th>gdpp</th>\n",
              "    </tr>\n",
              "  </thead>\n",
              "  <tbody>\n",
              "    <tr>\n",
              "      <th>0</th>\n",
              "      <td>Afghanistan</td>\n",
              "      <td>90.2</td>\n",
              "      <td>10.0</td>\n",
              "      <td>7.58</td>\n",
              "      <td>44.9</td>\n",
              "      <td>1610</td>\n",
              "      <td>9.44</td>\n",
              "      <td>56.2</td>\n",
              "      <td>5.82</td>\n",
              "      <td>553</td>\n",
              "    </tr>\n",
              "    <tr>\n",
              "      <th>1</th>\n",
              "      <td>Albania</td>\n",
              "      <td>16.6</td>\n",
              "      <td>28.0</td>\n",
              "      <td>6.55</td>\n",
              "      <td>48.6</td>\n",
              "      <td>9930</td>\n",
              "      <td>4.49</td>\n",
              "      <td>76.3</td>\n",
              "      <td>1.65</td>\n",
              "      <td>4090</td>\n",
              "    </tr>\n",
              "    <tr>\n",
              "      <th>2</th>\n",
              "      <td>Algeria</td>\n",
              "      <td>27.3</td>\n",
              "      <td>38.4</td>\n",
              "      <td>4.17</td>\n",
              "      <td>31.4</td>\n",
              "      <td>12900</td>\n",
              "      <td>16.10</td>\n",
              "      <td>76.5</td>\n",
              "      <td>2.89</td>\n",
              "      <td>4460</td>\n",
              "    </tr>\n",
              "    <tr>\n",
              "      <th>3</th>\n",
              "      <td>Angola</td>\n",
              "      <td>119.0</td>\n",
              "      <td>62.3</td>\n",
              "      <td>2.85</td>\n",
              "      <td>42.9</td>\n",
              "      <td>5900</td>\n",
              "      <td>22.40</td>\n",
              "      <td>60.1</td>\n",
              "      <td>6.16</td>\n",
              "      <td>3530</td>\n",
              "    </tr>\n",
              "    <tr>\n",
              "      <th>4</th>\n",
              "      <td>Antigua and Barbuda</td>\n",
              "      <td>10.3</td>\n",
              "      <td>45.5</td>\n",
              "      <td>6.03</td>\n",
              "      <td>58.9</td>\n",
              "      <td>19100</td>\n",
              "      <td>1.44</td>\n",
              "      <td>76.8</td>\n",
              "      <td>2.13</td>\n",
              "      <td>12200</td>\n",
              "    </tr>\n",
              "    <tr>\n",
              "      <th>...</th>\n",
              "      <td>...</td>\n",
              "      <td>...</td>\n",
              "      <td>...</td>\n",
              "      <td>...</td>\n",
              "      <td>...</td>\n",
              "      <td>...</td>\n",
              "      <td>...</td>\n",
              "      <td>...</td>\n",
              "      <td>...</td>\n",
              "      <td>...</td>\n",
              "    </tr>\n",
              "    <tr>\n",
              "      <th>162</th>\n",
              "      <td>Vanuatu</td>\n",
              "      <td>29.2</td>\n",
              "      <td>46.6</td>\n",
              "      <td>5.25</td>\n",
              "      <td>52.7</td>\n",
              "      <td>2950</td>\n",
              "      <td>2.62</td>\n",
              "      <td>63.0</td>\n",
              "      <td>3.50</td>\n",
              "      <td>2970</td>\n",
              "    </tr>\n",
              "    <tr>\n",
              "      <th>163</th>\n",
              "      <td>Venezuela</td>\n",
              "      <td>17.1</td>\n",
              "      <td>28.5</td>\n",
              "      <td>4.91</td>\n",
              "      <td>17.6</td>\n",
              "      <td>16500</td>\n",
              "      <td>45.90</td>\n",
              "      <td>75.4</td>\n",
              "      <td>2.47</td>\n",
              "      <td>13500</td>\n",
              "    </tr>\n",
              "    <tr>\n",
              "      <th>164</th>\n",
              "      <td>Vietnam</td>\n",
              "      <td>23.3</td>\n",
              "      <td>72.0</td>\n",
              "      <td>6.84</td>\n",
              "      <td>80.2</td>\n",
              "      <td>4490</td>\n",
              "      <td>12.10</td>\n",
              "      <td>73.1</td>\n",
              "      <td>1.95</td>\n",
              "      <td>1310</td>\n",
              "    </tr>\n",
              "    <tr>\n",
              "      <th>165</th>\n",
              "      <td>Yemen</td>\n",
              "      <td>56.3</td>\n",
              "      <td>30.0</td>\n",
              "      <td>5.18</td>\n",
              "      <td>34.4</td>\n",
              "      <td>4480</td>\n",
              "      <td>23.60</td>\n",
              "      <td>67.5</td>\n",
              "      <td>4.67</td>\n",
              "      <td>1310</td>\n",
              "    </tr>\n",
              "    <tr>\n",
              "      <th>166</th>\n",
              "      <td>Zambia</td>\n",
              "      <td>83.1</td>\n",
              "      <td>37.0</td>\n",
              "      <td>5.89</td>\n",
              "      <td>30.9</td>\n",
              "      <td>3280</td>\n",
              "      <td>14.00</td>\n",
              "      <td>52.0</td>\n",
              "      <td>5.40</td>\n",
              "      <td>1460</td>\n",
              "    </tr>\n",
              "  </tbody>\n",
              "</table>\n",
              "<p>167 rows × 10 columns</p>\n",
              "</div>"
            ],
            "text/plain": [
              "                 country  child_mort  exports  health  imports  income  \\\n",
              "0            Afghanistan        90.2     10.0    7.58     44.9    1610   \n",
              "1                Albania        16.6     28.0    6.55     48.6    9930   \n",
              "2                Algeria        27.3     38.4    4.17     31.4   12900   \n",
              "3                 Angola       119.0     62.3    2.85     42.9    5900   \n",
              "4    Antigua and Barbuda        10.3     45.5    6.03     58.9   19100   \n",
              "..                   ...         ...      ...     ...      ...     ...   \n",
              "162              Vanuatu        29.2     46.6    5.25     52.7    2950   \n",
              "163            Venezuela        17.1     28.5    4.91     17.6   16500   \n",
              "164              Vietnam        23.3     72.0    6.84     80.2    4490   \n",
              "165                Yemen        56.3     30.0    5.18     34.4    4480   \n",
              "166               Zambia        83.1     37.0    5.89     30.9    3280   \n",
              "\n",
              "     inflation  life_expec  total_fer   gdpp  \n",
              "0         9.44        56.2       5.82    553  \n",
              "1         4.49        76.3       1.65   4090  \n",
              "2        16.10        76.5       2.89   4460  \n",
              "3        22.40        60.1       6.16   3530  \n",
              "4         1.44        76.8       2.13  12200  \n",
              "..         ...         ...        ...    ...  \n",
              "162       2.62        63.0       3.50   2970  \n",
              "163      45.90        75.4       2.47  13500  \n",
              "164      12.10        73.1       1.95   1310  \n",
              "165      23.60        67.5       4.67   1310  \n",
              "166      14.00        52.0       5.40   1460  \n",
              "\n",
              "[167 rows x 10 columns]"
            ]
          },
          "execution_count": 3,
          "metadata": {},
          "output_type": "execute_result"
        }
      ],
      "source": [
        "df"
      ]
    },
    {
      "cell_type": "code",
      "execution_count": 5,
      "metadata": {
        "id": "QBWuAw4a6AxC"
      },
      "outputs": [],
      "source": [
        "df_data_dict = pd.read_csv('dataset/data-dictionary.csv')"
      ]
    },
    {
      "cell_type": "code",
      "execution_count": null,
      "metadata": {
        "id": "SJMb4q9p6AxC",
        "outputId": "cbc810ef-8cf7-40aa-ee53-b89f915a9659"
      },
      "outputs": [
        {
          "data": {
            "text/html": [
              "<div>\n",
              "<style scoped>\n",
              "    .dataframe tbody tr th:only-of-type {\n",
              "        vertical-align: middle;\n",
              "    }\n",
              "\n",
              "    .dataframe tbody tr th {\n",
              "        vertical-align: top;\n",
              "    }\n",
              "\n",
              "    .dataframe thead th {\n",
              "        text-align: right;\n",
              "    }\n",
              "</style>\n",
              "<table border=\"1\" class=\"dataframe\">\n",
              "  <thead>\n",
              "    <tr style=\"text-align: right;\">\n",
              "      <th></th>\n",
              "      <th>Column Name</th>\n",
              "      <th>Description</th>\n",
              "    </tr>\n",
              "  </thead>\n",
              "  <tbody>\n",
              "    <tr>\n",
              "      <th>0</th>\n",
              "      <td>country</td>\n",
              "      <td>Name of the country</td>\n",
              "    </tr>\n",
              "    <tr>\n",
              "      <th>1</th>\n",
              "      <td>child_mort</td>\n",
              "      <td>Death of children under 5 years of age per 100...</td>\n",
              "    </tr>\n",
              "    <tr>\n",
              "      <th>2</th>\n",
              "      <td>exports</td>\n",
              "      <td>Exports of goods and services per capita. Give...</td>\n",
              "    </tr>\n",
              "    <tr>\n",
              "      <th>3</th>\n",
              "      <td>health</td>\n",
              "      <td>Total health spending per capita. Given as %ag...</td>\n",
              "    </tr>\n",
              "    <tr>\n",
              "      <th>4</th>\n",
              "      <td>imports</td>\n",
              "      <td>Imports of goods and services per capita. Give...</td>\n",
              "    </tr>\n",
              "    <tr>\n",
              "      <th>5</th>\n",
              "      <td>Income</td>\n",
              "      <td>Net income per person</td>\n",
              "    </tr>\n",
              "    <tr>\n",
              "      <th>6</th>\n",
              "      <td>Inflation</td>\n",
              "      <td>The measurement of the annual growth rate of t...</td>\n",
              "    </tr>\n",
              "    <tr>\n",
              "      <th>7</th>\n",
              "      <td>life_expec</td>\n",
              "      <td>The average number of years a new born child w...</td>\n",
              "    </tr>\n",
              "    <tr>\n",
              "      <th>8</th>\n",
              "      <td>total_fer</td>\n",
              "      <td>The number of children that would be born to e...</td>\n",
              "    </tr>\n",
              "    <tr>\n",
              "      <th>9</th>\n",
              "      <td>gdpp</td>\n",
              "      <td>The GDP per capita. Calculated as the Total GD...</td>\n",
              "    </tr>\n",
              "  </tbody>\n",
              "</table>\n",
              "</div>"
            ],
            "text/plain": [
              "  Column Name                                        Description\n",
              "0     country                                Name of the country\n",
              "1  child_mort  Death of children under 5 years of age per 100...\n",
              "2     exports  Exports of goods and services per capita. Give...\n",
              "3      health  Total health spending per capita. Given as %ag...\n",
              "4     imports  Imports of goods and services per capita. Give...\n",
              "5      Income                              Net income per person\n",
              "6   Inflation  The measurement of the annual growth rate of t...\n",
              "7  life_expec  The average number of years a new born child w...\n",
              "8   total_fer  The number of children that would be born to e...\n",
              "9        gdpp  The GDP per capita. Calculated as the Total GD..."
            ]
          },
          "execution_count": 6,
          "metadata": {},
          "output_type": "execute_result"
        }
      ],
      "source": [
        "df_data_dict"
      ]
    },
    {
      "cell_type": "code",
      "execution_count": null,
      "metadata": {
        "id": "6bup3-846AxD",
        "outputId": "07162a20-cc53-40e3-d5c0-3b5999696203"
      },
      "outputs": [
        {
          "data": {
            "text/plain": [
              "<bound method NDFrame.describe of                  country  child_mort  exports  health  imports  income  \\\n",
              "0            Afghanistan        90.2     10.0    7.58     44.9    1610   \n",
              "1                Albania        16.6     28.0    6.55     48.6    9930   \n",
              "2                Algeria        27.3     38.4    4.17     31.4   12900   \n",
              "3                 Angola       119.0     62.3    2.85     42.9    5900   \n",
              "4    Antigua and Barbuda        10.3     45.5    6.03     58.9   19100   \n",
              "..                   ...         ...      ...     ...      ...     ...   \n",
              "162              Vanuatu        29.2     46.6    5.25     52.7    2950   \n",
              "163            Venezuela        17.1     28.5    4.91     17.6   16500   \n",
              "164              Vietnam        23.3     72.0    6.84     80.2    4490   \n",
              "165                Yemen        56.3     30.0    5.18     34.4    4480   \n",
              "166               Zambia        83.1     37.0    5.89     30.9    3280   \n",
              "\n",
              "     inflation  life_expec  total_fer   gdpp  \n",
              "0         9.44        56.2       5.82    553  \n",
              "1         4.49        76.3       1.65   4090  \n",
              "2        16.10        76.5       2.89   4460  \n",
              "3        22.40        60.1       6.16   3530  \n",
              "4         1.44        76.8       2.13  12200  \n",
              "..         ...         ...        ...    ...  \n",
              "162       2.62        63.0       3.50   2970  \n",
              "163      45.90        75.4       2.47  13500  \n",
              "164      12.10        73.1       1.95   1310  \n",
              "165      23.60        67.5       4.67   1310  \n",
              "166      14.00        52.0       5.40   1460  \n",
              "\n",
              "[167 rows x 10 columns]>"
            ]
          },
          "execution_count": 7,
          "metadata": {},
          "output_type": "execute_result"
        }
      ],
      "source": [
        "df.describe"
      ]
    },
    {
      "cell_type": "code",
      "execution_count": null,
      "metadata": {
        "id": "i4CpS2036AxD",
        "outputId": "e049a80a-0382-44af-db8a-dda9c85f0ccc"
      },
      "outputs": [
        {
          "data": {
            "text/plain": [
              "(167, 10)"
            ]
          },
          "execution_count": 8,
          "metadata": {},
          "output_type": "execute_result"
        }
      ],
      "source": [
        "df.shape"
      ]
    },
    {
      "cell_type": "code",
      "execution_count": null,
      "metadata": {
        "id": "tq_sdPtv6AxD",
        "outputId": "8538db6e-fbe2-4fc8-8308-cc57fe07a7e6"
      },
      "outputs": [
        {
          "data": {
            "text/html": [
              "<div>\n",
              "<style scoped>\n",
              "    .dataframe tbody tr th:only-of-type {\n",
              "        vertical-align: middle;\n",
              "    }\n",
              "\n",
              "    .dataframe tbody tr th {\n",
              "        vertical-align: top;\n",
              "    }\n",
              "\n",
              "    .dataframe thead th {\n",
              "        text-align: right;\n",
              "    }\n",
              "</style>\n",
              "<table border=\"1\" class=\"dataframe\">\n",
              "  <thead>\n",
              "    <tr style=\"text-align: right;\">\n",
              "      <th></th>\n",
              "      <th>child_mort</th>\n",
              "      <th>exports</th>\n",
              "      <th>health</th>\n",
              "      <th>imports</th>\n",
              "      <th>income</th>\n",
              "      <th>inflation</th>\n",
              "      <th>life_expec</th>\n",
              "      <th>total_fer</th>\n",
              "      <th>gdpp</th>\n",
              "    </tr>\n",
              "  </thead>\n",
              "  <tbody>\n",
              "    <tr>\n",
              "      <th>child_mort</th>\n",
              "      <td>1.000000</td>\n",
              "      <td>-0.318093</td>\n",
              "      <td>-0.200402</td>\n",
              "      <td>-0.127211</td>\n",
              "      <td>-0.524315</td>\n",
              "      <td>0.288276</td>\n",
              "      <td>-0.886676</td>\n",
              "      <td>0.848478</td>\n",
              "      <td>-0.483032</td>\n",
              "    </tr>\n",
              "    <tr>\n",
              "      <th>exports</th>\n",
              "      <td>-0.318093</td>\n",
              "      <td>1.000000</td>\n",
              "      <td>-0.114408</td>\n",
              "      <td>0.737381</td>\n",
              "      <td>0.516784</td>\n",
              "      <td>-0.107294</td>\n",
              "      <td>0.316313</td>\n",
              "      <td>-0.320011</td>\n",
              "      <td>0.418725</td>\n",
              "    </tr>\n",
              "    <tr>\n",
              "      <th>health</th>\n",
              "      <td>-0.200402</td>\n",
              "      <td>-0.114408</td>\n",
              "      <td>1.000000</td>\n",
              "      <td>0.095717</td>\n",
              "      <td>0.129579</td>\n",
              "      <td>-0.255376</td>\n",
              "      <td>0.210692</td>\n",
              "      <td>-0.196674</td>\n",
              "      <td>0.345966</td>\n",
              "    </tr>\n",
              "    <tr>\n",
              "      <th>imports</th>\n",
              "      <td>-0.127211</td>\n",
              "      <td>0.737381</td>\n",
              "      <td>0.095717</td>\n",
              "      <td>1.000000</td>\n",
              "      <td>0.122406</td>\n",
              "      <td>-0.246994</td>\n",
              "      <td>0.054391</td>\n",
              "      <td>-0.159048</td>\n",
              "      <td>0.115498</td>\n",
              "    </tr>\n",
              "    <tr>\n",
              "      <th>income</th>\n",
              "      <td>-0.524315</td>\n",
              "      <td>0.516784</td>\n",
              "      <td>0.129579</td>\n",
              "      <td>0.122406</td>\n",
              "      <td>1.000000</td>\n",
              "      <td>-0.147756</td>\n",
              "      <td>0.611962</td>\n",
              "      <td>-0.501840</td>\n",
              "      <td>0.895571</td>\n",
              "    </tr>\n",
              "    <tr>\n",
              "      <th>inflation</th>\n",
              "      <td>0.288276</td>\n",
              "      <td>-0.107294</td>\n",
              "      <td>-0.255376</td>\n",
              "      <td>-0.246994</td>\n",
              "      <td>-0.147756</td>\n",
              "      <td>1.000000</td>\n",
              "      <td>-0.239705</td>\n",
              "      <td>0.316921</td>\n",
              "      <td>-0.221631</td>\n",
              "    </tr>\n",
              "    <tr>\n",
              "      <th>life_expec</th>\n",
              "      <td>-0.886676</td>\n",
              "      <td>0.316313</td>\n",
              "      <td>0.210692</td>\n",
              "      <td>0.054391</td>\n",
              "      <td>0.611962</td>\n",
              "      <td>-0.239705</td>\n",
              "      <td>1.000000</td>\n",
              "      <td>-0.760875</td>\n",
              "      <td>0.600089</td>\n",
              "    </tr>\n",
              "    <tr>\n",
              "      <th>total_fer</th>\n",
              "      <td>0.848478</td>\n",
              "      <td>-0.320011</td>\n",
              "      <td>-0.196674</td>\n",
              "      <td>-0.159048</td>\n",
              "      <td>-0.501840</td>\n",
              "      <td>0.316921</td>\n",
              "      <td>-0.760875</td>\n",
              "      <td>1.000000</td>\n",
              "      <td>-0.454910</td>\n",
              "    </tr>\n",
              "    <tr>\n",
              "      <th>gdpp</th>\n",
              "      <td>-0.483032</td>\n",
              "      <td>0.418725</td>\n",
              "      <td>0.345966</td>\n",
              "      <td>0.115498</td>\n",
              "      <td>0.895571</td>\n",
              "      <td>-0.221631</td>\n",
              "      <td>0.600089</td>\n",
              "      <td>-0.454910</td>\n",
              "      <td>1.000000</td>\n",
              "    </tr>\n",
              "  </tbody>\n",
              "</table>\n",
              "</div>"
            ],
            "text/plain": [
              "            child_mort   exports    health   imports    income  inflation  \\\n",
              "child_mort    1.000000 -0.318093 -0.200402 -0.127211 -0.524315   0.288276   \n",
              "exports      -0.318093  1.000000 -0.114408  0.737381  0.516784  -0.107294   \n",
              "health       -0.200402 -0.114408  1.000000  0.095717  0.129579  -0.255376   \n",
              "imports      -0.127211  0.737381  0.095717  1.000000  0.122406  -0.246994   \n",
              "income       -0.524315  0.516784  0.129579  0.122406  1.000000  -0.147756   \n",
              "inflation     0.288276 -0.107294 -0.255376 -0.246994 -0.147756   1.000000   \n",
              "life_expec   -0.886676  0.316313  0.210692  0.054391  0.611962  -0.239705   \n",
              "total_fer     0.848478 -0.320011 -0.196674 -0.159048 -0.501840   0.316921   \n",
              "gdpp         -0.483032  0.418725  0.345966  0.115498  0.895571  -0.221631   \n",
              "\n",
              "            life_expec  total_fer      gdpp  \n",
              "child_mort   -0.886676   0.848478 -0.483032  \n",
              "exports       0.316313  -0.320011  0.418725  \n",
              "health        0.210692  -0.196674  0.345966  \n",
              "imports       0.054391  -0.159048  0.115498  \n",
              "income        0.611962  -0.501840  0.895571  \n",
              "inflation    -0.239705   0.316921 -0.221631  \n",
              "life_expec    1.000000  -0.760875  0.600089  \n",
              "total_fer    -0.760875   1.000000 -0.454910  \n",
              "gdpp          0.600089  -0.454910  1.000000  "
            ]
          },
          "execution_count": 9,
          "metadata": {},
          "output_type": "execute_result"
        }
      ],
      "source": [
        "df.corr()"
      ]
    },
    {
      "cell_type": "code",
      "execution_count": null,
      "metadata": {
        "id": "yO5yldAM6AxD",
        "outputId": "76550b7d-f39b-41c7-b093-8850aa7f14ee"
      },
      "outputs": [
        {
          "data": {
            "image/png": "[encoded data removed]",
            "text/plain": [
              "<Figure size 864x720 with 2 Axes>"
            ]
          },
          "metadata": {
            "needs_background": "light"
          },
          "output_type": "display_data"
        }
      ],
      "source": [
        "plt.figure(figsize=(12,10))\n",
        "ax = sns.heatmap(df.corr(),annot=True,cmap = 'viridis')\n",
        "plt.show()"
      ]
    },
    {
      "cell_type": "code",
      "execution_count": 6,
      "metadata": {
        "id": "QV5S9fWc6AxE"
      },
      "outputs": [],
      "source": [
        "min_max_scalar = MinMaxScaler()"
      ]
    },
    {
      "cell_type": "code",
      "execution_count": 7,
      "metadata": {
        "id": "uyZyAhrK6AxE"
      },
      "outputs": [],
      "source": [
        "scaled_data = min_max_scalar.fit_transform(df.drop('country',axis = 1))"
      ]
    },
    {
      "cell_type": "code",
      "execution_count": 8,
      "metadata": {
        "colab": {
          "base_uri": "https://localhost:8080/",
          "height": 424
        },
        "id": "DUKn1xBf6AxE",
        "outputId": "c59e7991-2280-4b5b-fa8f-0ee1f72b68e1"
      },
      "outputs": [
        {
          "output_type": "execute_result",
          "data": {
            "text/plain": [
              "     child_mort   exports    health   imports    income  inflation  \\\n",
              "0      0.426485  0.049482  0.358608  0.257765  0.008047   0.126144   \n",
              "1      0.068160  0.139531  0.294593  0.279037  0.074933   0.080399   \n",
              "2      0.120253  0.191559  0.146675  0.180149  0.098809   0.187691   \n",
              "3      0.566699  0.311125  0.064636  0.246266  0.042535   0.245911   \n",
              "4      0.037488  0.227079  0.262275  0.338255  0.148652   0.052213   \n",
              "..          ...       ...       ...       ...       ...        ...   \n",
              "162    0.129503  0.232582  0.213797  0.302609  0.018820   0.063118   \n",
              "163    0.070594  0.142032  0.192666  0.100809  0.127750   0.463081   \n",
              "164    0.100779  0.359651  0.312617  0.460715  0.031200   0.150725   \n",
              "165    0.261441  0.149536  0.209447  0.197397  0.031120   0.257000   \n",
              "166    0.391918  0.184556  0.253574  0.177275  0.021473   0.168284   \n",
              "\n",
              "     life_expec  total_fer      gdpp              country  \n",
              "0      0.475345   0.736593  0.003073          Afghanistan  \n",
              "1      0.871795   0.078864  0.036833              Albania  \n",
              "2      0.875740   0.274448  0.040365              Algeria  \n",
              "3      0.552268   0.790221  0.031488               Angola  \n",
              "4      0.881657   0.154574  0.114242  Antigua and Barbuda  \n",
              "..          ...        ...       ...                  ...  \n",
              "162    0.609467   0.370662  0.026143              Vanuatu  \n",
              "163    0.854043   0.208202  0.126650            Venezuela  \n",
              "164    0.808679   0.126183  0.010299              Vietnam  \n",
              "165    0.698225   0.555205  0.010299                Yemen  \n",
              "166    0.392505   0.670347  0.011731               Zambia  \n",
              "\n",
              "[167 rows x 10 columns]"
            ],
            "text/html": [
              "\n",
              "  <div id=\"df-67cd4a40-1b37-4632-8127-4090a1f38264\">\n",
              "    <div class=\"colab-df-container\">\n",
              "      <div>\n",
              "<style scoped>\n",
              "    .dataframe tbody tr th:only-of-type {\n",
              "        vertical-align: middle;\n",
              "    }\n",
              "\n",
              "    .dataframe tbody tr th {\n",
              "        vertical-align: top;\n",
              "    }\n",
              "\n",
              "    .dataframe thead th {\n",
              "        text-align: right;\n",
              "    }\n",
              "</style>\n",
              "<table border=\"1\" class=\"dataframe\">\n",
              "  <thead>\n",
              "    <tr style=\"text-align: right;\">\n",
              "      <th></th>\n",
              "      <th>child_mort</th>\n",
              "      <th>exports</th>\n",
              "      <th>health</th>\n",
              "      <th>imports</th>\n",
              "      <th>income</th>\n",
              "      <th>inflation</th>\n",
              "      <th>life_expec</th>\n",
              "      <th>total_fer</th>\n",
              "      <th>gdpp</th>\n",
              "      <th>country</th>\n",
              "    </tr>\n",
              "  </thead>\n",
              "  <tbody>\n",
              "    <tr>\n",
              "      <th>0</th>\n",
              "      <td>0.426485</td>\n",
              "      <td>0.049482</td>\n",
              "      <td>0.358608</td>\n",
              "      <td>0.257765</td>\n",
              "      <td>0.008047</td>\n",
              "      <td>0.126144</td>\n",
              "      <td>0.475345</td>\n",
              "      <td>0.736593</td>\n",
              "      <td>0.003073</td>\n",
              "      <td>Afghanistan</td>\n",
              "    </tr>\n",
              "    <tr>\n",
              "      <th>1</th>\n",
              "      <td>0.068160</td>\n",
              "      <td>0.139531</td>\n",
              "      <td>0.294593</td>\n",
              "      <td>0.279037</td>\n",
              "      <td>0.074933</td>\n",
              "      <td>0.080399</td>\n",
              "      <td>0.871795</td>\n",
              "      <td>0.078864</td>\n",
              "      <td>0.036833</td>\n",
              "      <td>Albania</td>\n",
              "    </tr>\n",
              "    <tr>\n",
              "      <th>2</th>\n",
              "      <td>0.120253</td>\n",
              "      <td>0.191559</td>\n",
              "      <td>0.146675</td>\n",
              "      <td>0.180149</td>\n",
              "      <td>0.098809</td>\n",
              "      <td>0.187691</td>\n",
              "      <td>0.875740</td>\n",
              "      <td>0.274448</td>\n",
              "      <td>0.040365</td>\n",
              "      <td>Algeria</td>\n",
              "    </tr>\n",
              "    <tr>\n",
              "      <th>3</th>\n",
              "      <td>0.566699</td>\n",
              "      <td>0.311125</td>\n",
              "      <td>0.064636</td>\n",
              "      <td>0.246266</td>\n",
              "      <td>0.042535</td>\n",
              "      <td>0.245911</td>\n",
              "      <td>0.552268</td>\n",
              "      <td>0.790221</td>\n",
              "      <td>0.031488</td>\n",
              "      <td>Angola</td>\n",
              "    </tr>\n",
              "    <tr>\n",
              "      <th>4</th>\n",
              "      <td>0.037488</td>\n",
              "      <td>0.227079</td>\n",
              "      <td>0.262275</td>\n",
              "      <td>0.338255</td>\n",
              "      <td>0.148652</td>\n",
              "      <td>0.052213</td>\n",
              "      <td>0.881657</td>\n",
              "      <td>0.154574</td>\n",
              "      <td>0.114242</td>\n",
              "      <td>Antigua and Barbuda</td>\n",
              "    </tr>\n",
              "    <tr>\n",
              "      <th>...</th>\n",
              "      <td>...</td>\n",
              "      <td>...</td>\n",
              "      <td>...</td>\n",
              "      <td>...</td>\n",
              "      <td>...</td>\n",
              "      <td>...</td>\n",
              "      <td>...</td>\n",
              "      <td>...</td>\n",
              "      <td>...</td>\n",
              "      <td>...</td>\n",
              "    </tr>\n",
              "    <tr>\n",
              "      <th>162</th>\n",
              "      <td>0.129503</td>\n",
              "      <td>0.232582</td>\n",
              "      <td>0.213797</td>\n",
              "      <td>0.302609</td>\n",
              "      <td>0.018820</td>\n",
              "      <td>0.063118</td>\n",
              "      <td>0.609467</td>\n",
              "      <td>0.370662</td>\n",
              "      <td>0.026143</td>\n",
              "      <td>Vanuatu</td>\n",
              "    </tr>\n",
              "    <tr>\n",
              "      <th>163</th>\n",
              "      <td>0.070594</td>\n",
              "      <td>0.142032</td>\n",
              "      <td>0.192666</td>\n",
              "      <td>0.100809</td>\n",
              "      <td>0.127750</td>\n",
              "      <td>0.463081</td>\n",
              "      <td>0.854043</td>\n",
              "      <td>0.208202</td>\n",
              "      <td>0.126650</td>\n",
              "      <td>Venezuela</td>\n",
              "    </tr>\n",
              "    <tr>\n",
              "      <th>164</th>\n",
              "      <td>0.100779</td>\n",
              "      <td>0.359651</td>\n",
              "      <td>0.312617</td>\n",
              "      <td>0.460715</td>\n",
              "      <td>0.031200</td>\n",
              "      <td>0.150725</td>\n",
              "      <td>0.808679</td>\n",
              "      <td>0.126183</td>\n",
              "      <td>0.010299</td>\n",
              "      <td>Vietnam</td>\n",
              "    </tr>\n",
              "    <tr>\n",
              "      <th>165</th>\n",
              "      <td>0.261441</td>\n",
              "      <td>0.149536</td>\n",
              "      <td>0.209447</td>\n",
              "      <td>0.197397</td>\n",
              "      <td>0.031120</td>\n",
              "      <td>0.257000</td>\n",
              "      <td>0.698225</td>\n",
              "      <td>0.555205</td>\n",
              "      <td>0.010299</td>\n",
              "      <td>Yemen</td>\n",
              "    </tr>\n",
              "    <tr>\n",
              "      <th>166</th>\n",
              "      <td>0.391918</td>\n",
              "      <td>0.184556</td>\n",
              "      <td>0.253574</td>\n",
              "      <td>0.177275</td>\n",
              "      <td>0.021473</td>\n",
              "      <td>0.168284</td>\n",
              "      <td>0.392505</td>\n",
              "      <td>0.670347</td>\n",
              "      <td>0.011731</td>\n",
              "      <td>Zambia</td>\n",
              "    </tr>\n",
              "  </tbody>\n",
              "</table>\n",
              "<p>167 rows × 10 columns</p>\n",
              "</div>\n",
              "      <button class=\"colab-df-convert\" onclick=\"convertToInteractive('df-67cd4a40-1b37-4632-8127-4090a1f38264')\"\n",
              "              title=\"Convert this dataframe to an interactive table.\"\n",
              "              style=\"display:none;\">\n",
              "        \n",
              "  <svg xmlns=\"http://www.w3.org/2000/svg\" height=\"24px\"viewBox=\"0 0 24 24\"\n",
              "       width=\"24px\">\n",
              "    <path d=\"M0 0h24v24H0V0z\" fill=\"none\"/>\n",
              "    <path d=\"M18.56 5.44l.94 2.06.94-2.06 2.06-.94-2.06-.94-.94-2.06-.94 2.06-2.06.94zm-11 1L8.5 8.5l.94-2.06 2.06-.94-2.06-.94L8.5 2.5l-.94 2.06-2.06.94zm10 10l.94 2.06.94-2.06 2.06-.94-2.06-.94-.94-2.06-.94 2.06-2.06.94z\"/><path d=\"M17.41 7.96l-1.37-1.37c-.4-.4-.92-.59-1.43-.59-.52 0-1.04.2-1.43.59L10.3 9.45l-7.72 7.72c-.78.78-.78 2.05 0 2.83L4 21.41c.39.39.9.59 1.41.59.51 0 1.02-.2 1.41-.59l7.78-7.78 2.81-2.81c.8-.78.8-2.07 0-2.86zM5.41 20L4 18.59l7.72-7.72 1.47 1.35L5.41 20z\"/>\n",
              "  </svg>\n",
              "      </button>\n",
              "      \n",
              "  <style>\n",
              "    .colab-df-container {\n",
              "      display:flex;\n",
              "      flex-wrap:wrap;\n",
              "      gap: 12px;\n",
              "    }\n",
              "\n",
              "    .colab-df-convert {\n",
              "      background-color: #E8F0FE;\n",
              "      border: none;\n",
              "      border-radius: 50%;\n",
              "      cursor: pointer;\n",
              "      display: none;\n",
              "      fill: #1967D2;\n",
              "      height: 32px;\n",
              "      padding: 0 0 0 0;\n",
              "      width: 32px;\n",
              "    }\n",
              "\n",
              "    .colab-df-convert:hover {\n",
              "      background-color: #E2EBFA;\n",
              "      box-shadow: 0px 1px 2px rgba(60, 64, 67, 0.3), 0px 1px 3px 1px rgba(60, 64, 67, 0.15);\n",
              "      fill: #174EA6;\n",
              "    }\n",
              "\n",
              "    [theme=dark] .colab-df-convert {\n",
              "      background-color: #3B4455;\n",
              "      fill: #D2E3FC;\n",
              "    }\n",
              "\n",
              "    [theme=dark] .colab-df-convert:hover {\n",
              "      background-color: #434B5C;\n",
              "      box-shadow: 0px 1px 3px 1px rgba(0, 0, 0, 0.15);\n",
              "      filter: drop-shadow(0px 1px 2px rgba(0, 0, 0, 0.3));\n",
              "      fill: #FFFFFF;\n",
              "    }\n",
              "  </style>\n",
              "\n",
              "      <script>\n",
              "        const buttonEl =\n",
              "          document.querySelector('#df-67cd4a40-1b37-4632-8127-4090a1f38264 button.colab-df-convert');\n",
              "        buttonEl.style.display =\n",
              "          google.colab.kernel.accessAllowed ? 'block' : 'none';\n",
              "\n",
              "        async function convertToInteractive(key) {\n",
              "          const element = document.querySelector('#df-67cd4a40-1b37-4632-8127-4090a1f38264');\n",
              "          const dataTable =\n",
              "            await google.colab.kernel.invokeFunction('convertToInteractive',\n",
              "                                                     [key], {});\n",
              "          if (!dataTable) return;\n",
              "\n",
              "          const docLinkHtml = 'Like what you see? Visit the ' +\n",
              "            '<a target=\"_blank\" href=https://colab.research.google.com/notebooks/data_table.ipynb>data table notebook</a>'\n",
              "            + ' to learn more about interactive tables.';\n",
              "          element.innerHTML = '';\n",
              "          dataTable['output_type'] = 'display_data';\n",
              "          await google.colab.output.renderOutput(dataTable, element);\n",
              "          const docLink = document.createElement('div');\n",
              "          docLink.innerHTML = docLinkHtml;\n",
              "          element.appendChild(docLink);\n",
              "        }\n",
              "      </script>\n",
              "    </div>\n",
              "  </div>\n",
              "  "
            ]
          },
          "metadata": {},
          "execution_count": 8
        }
      ],
      "source": [
        "scaled_df = pd.DataFrame(data = scaled_data,columns=df.columns[1:])\n",
        "scaled_df['country'] = df['country']\n",
        "scaled_df"
      ]
    },
    {
      "cell_type": "code",
      "execution_count": 9,
      "metadata": {
        "colab": {
          "base_uri": "https://localhost:8080/",
          "height": 542
        },
        "id": "KUXPFaXD6AxF",
        "outputId": "2b268c33-ab07-4c60-f19b-31b03a65cb7a"
      },
      "outputs": [
        {
          "output_type": "display_data",
          "data": {
            "text/html": [
              "<html>\n",
              "<head><meta charset=\"utf-8\" /></head>\n",
              "<body>\n",
              "    <div>            <script src=\"https://cdnjs.cloudflare.com/ajax/libs/mathjax/2.7.5/MathJax.js?config=TeX-AMS-MML_SVG\"></script><script type=\"text/javascript\">if (window.MathJax) {MathJax.Hub.Config({SVG: {font: \"STIX-Web\"}});}</script>                <script type=\"text/javascript\">window.PlotlyConfig = {MathJaxConfig: 'local'};</script>\n",
              "        <script src=\"https://cdn.plot.ly/plotly-2.8.3.min.js\"></script>                <div id=\"57693b42-6122-4fbd-be90-a88b0545797e\" class=\"plotly-graph-div\" style=\"height:525px; width:100%;\"></div>            <script type=\"text/javascript\">                                    window.PLOTLYENV=window.PLOTLYENV || {};                                    if (document.getElementById(\"57693b42-6122-4fbd-be90-a88b0545797e\")) {                    Plotly.newPlot(                        \"57693b42-6122-4fbd-be90-a88b0545797e\",                        [{\"alignmentgroup\":\"True\",\"bingroup\":\"x\",\"hovertemplate\":\"gdpp=%{x}<br>count=%{y}<extra></extra>\",\"legendgroup\":\"\",\"marker\":{\"color\":\"#636efa\",\"opacity\":0.75,\"pattern\":{\"shape\":\"\"}},\"name\":\"\",\"nbinsx\":167,\"offsetgroup\":\"\",\"orientation\":\"v\",\"showlegend\":false,\"x\":[553,4090,4460,3530,12200,10300,3220,51900,46900,5840,28000,20700,758,16000,6030,44400,4340,758,2180,1980,4610,6350,11200,35300,6840,575,231,786,1310,47400,3310,446,897,12900,4560,6250,769,334,2740,8200,1220,13500,30800,19800,58000,5450,4660,2600,2990,17100,482,14600,3650,46200,40600,8750,562,2960,41800,1310,26900,7370,2830,648,547,3040,662,13100,41900,1350,3110,6530,4500,48700,30600,35800,4680,44500,3680,9070,967,1490,38500,880,1140,11300,8860,1170,327,12100,12000,105000,4540,413,459,9070,7100,708,21100,1200,8000,2860,1630,2650,6680,2830,419,988,5190,592,50300,33700,348,2330,87800,19300,1040,8080,3230,5020,2130,12600,22500,70300,8230,10700,563,3450,19300,1000,5410,10800,399,46600,16600,23400,1290,7280,22100,30700,2810,6230,1480,8300,52100,74600,738,702,5080,3600,488,3550,4140,10700,4440,595,2970,35000,38900,48400,11900,1380,2970,13500,1310,1310,1460],\"xaxis\":\"x\",\"yaxis\":\"y\",\"type\":\"histogram\"}],                        {\"template\":{\"data\":{\"bar\":[{\"error_x\":{\"color\":\"#2a3f5f\"},\"error_y\":{\"color\":\"#2a3f5f\"},\"marker\":{\"line\":{\"color\":\"#E5ECF6\",\"width\":0.5},\"pattern\":{\"fillmode\":\"overlay\",\"size\":10,\"solidity\":0.2}},\"type\":\"bar\"}],\"barpolar\":[{\"marker\":{\"line\":{\"color\":\"#E5ECF6\",\"width\":0.5},\"pattern\":{\"fillmode\":\"overlay\",\"size\":10,\"solidity\":0.2}},\"type\":\"barpolar\"}],\"carpet\":[{\"aaxis\":{\"endlinecolor\":\"#2a3f5f\",\"gridcolor\":\"white\",\"linecolor\":\"white\",\"minorgridcolor\":\"white\",\"startlinecolor\":\"#2a3f5f\"},\"baxis\":{\"endlinecolor\":\"#2a3f5f\",\"gridcolor\":\"white\",\"linecolor\":\"white\",\"minorgridcolor\":\"white\",\"startlinecolor\":\"#2a3f5f\"},\"type\":\"carpet\"}],\"choropleth\":[{\"colorbar\":{\"outlinewidth\":0,\"ticks\":\"\"},\"type\":\"choropleth\"}],\"contour\":[{\"colorbar\":{\"outlinewidth\":0,\"ticks\":\"\"},\"colorscale\":[[0.0,\"#0d0887\"],[0.1111111111111111,\"#46039f\"],[0.2222222222222222,\"#7201a8\"],[0.3333333333333333,\"#9c179e\"],[0.4444444444444444,\"#bd3786\"],[0.5555555555555556,\"#d8576b\"],[0.6666666666666666,\"#ed7953\"],[0.7777777777777778,\"#fb9f3a\"],[0.8888888888888888,\"#fdca26\"],[1.0,\"#f0f921\"]],\"type\":\"contour\"}],\"contourcarpet\":[{\"colorbar\":{\"outlinewidth\":0,\"ticks\":\"\"},\"type\":\"contourcarpet\"}],\"heatmap\":[{\"colorbar\":{\"outlinewidth\":0,\"ticks\":\"\"},\"colorscale\":[[0.0,\"#0d0887\"],[0.1111111111111111,\"#46039f\"],[0.2222222222222222,\"#7201a8\"],[0.3333333333333333,\"#9c179e\"],[0.4444444444444444,\"#bd3786\"],[0.5555555555555556,\"#d8576b\"],[0.6666666666666666,\"#ed7953\"],[0.7777777777777778,\"#fb9f3a\"],[0.8888888888888888,\"#fdca26\"],[1.0,\"#f0f921\"]],\"type\":\"heatmap\"}],\"heatmapgl\":[{\"colorbar\":{\"outlinewidth\":0,\"ticks\":\"\"},\"colorscale\":[[0.0,\"#0d0887\"],[0.1111111111111111,\"#46039f\"],[0.2222222222222222,\"#7201a8\"],[0.3333333333333333,\"#9c179e\"],[0.4444444444444444,\"#bd3786\"],[0.5555555555555556,\"#d8576b\"],[0.6666666666666666,\"#ed7953\"],[0.7777777777777778,\"#fb9f3a\"],[0.8888888888888888,\"#fdca26\"],[1.0,\"#f0f921\"]],\"type\":\"heatmapgl\"}],\"histogram\":[{\"marker\":{\"pattern\":{\"fillmode\":\"overlay\",\"size\":10,\"solidity\":0.2}},\"type\":\"histogram\"}],\"histogram2d\":[{\"colorbar\":{\"outlinewidth\":0,\"ticks\":\"\"},\"colorscale\":[[0.0,\"#0d0887\"],[0.1111111111111111,\"#46039f\"],[0.2222222222222222,\"#7201a8\"],[0.3333333333333333,\"#9c179e\"],[0.4444444444444444,\"#bd3786\"],[0.5555555555555556,\"#d8576b\"],[0.6666666666666666,\"#ed7953\"],[0.7777777777777778,\"#fb9f3a\"],[0.8888888888888888,\"#fdca26\"],[1.0,\"#f0f921\"]],\"type\":\"histogram2d\"}],\"histogram2dcontour\":[{\"colorbar\":{\"outlinewidth\":0,\"ticks\":\"\"},\"colorscale\":[[0.0,\"#0d0887\"],[0.1111111111111111,\"#46039f\"],[0.2222222222222222,\"#7201a8\"],[0.3333333333333333,\"#9c179e\"],[0.4444444444444444,\"#bd3786\"],[0.5555555555555556,\"#d8576b\"],[0.6666666666666666,\"#ed7953\"],[0.7777777777777778,\"#fb9f3a\"],[0.8888888888888888,\"#fdca26\"],[1.0,\"#f0f921\"]],\"type\":\"histogram2dcontour\"}],\"mesh3d\":[{\"colorbar\":{\"outlinewidth\":0,\"ticks\":\"\"},\"type\":\"mesh3d\"}],\"parcoords\":[{\"line\":{\"colorbar\":{\"outlinewidth\":0,\"ticks\":\"\"}},\"type\":\"parcoords\"}],\"pie\":[{\"automargin\":true,\"type\":\"pie\"}],\"scatter\":[{\"marker\":{\"colorbar\":{\"outlinewidth\":0,\"ticks\":\"\"}},\"type\":\"scatter\"}],\"scatter3d\":[{\"line\":{\"colorbar\":{\"outlinewidth\":0,\"ticks\":\"\"}},\"marker\":{\"colorbar\":{\"outlinewidth\":0,\"ticks\":\"\"}},\"type\":\"scatter3d\"}],\"scattercarpet\":[{\"marker\":{\"colorbar\":{\"outlinewidth\":0,\"ticks\":\"\"}},\"type\":\"scattercarpet\"}],\"scattergeo\":[{\"marker\":{\"colorbar\":{\"outlinewidth\":0,\"ticks\":\"\"}},\"type\":\"scattergeo\"}],\"scattergl\":[{\"marker\":{\"colorbar\":{\"outlinewidth\":0,\"ticks\":\"\"}},\"type\":\"scattergl\"}],\"scattermapbox\":[{\"marker\":{\"colorbar\":{\"outlinewidth\":0,\"ticks\":\"\"}},\"type\":\"scattermapbox\"}],\"scatterpolar\":[{\"marker\":{\"colorbar\":{\"outlinewidth\":0,\"ticks\":\"\"}},\"type\":\"scatterpolar\"}],\"scatterpolargl\":[{\"marker\":{\"colorbar\":{\"outlinewidth\":0,\"ticks\":\"\"}},\"type\":\"scatterpolargl\"}],\"scatterternary\":[{\"marker\":{\"colorbar\":{\"outlinewidth\":0,\"ticks\":\"\"}},\"type\":\"scatterternary\"}],\"surface\":[{\"colorbar\":{\"outlinewidth\":0,\"ticks\":\"\"},\"colorscale\":[[0.0,\"#0d0887\"],[0.1111111111111111,\"#46039f\"],[0.2222222222222222,\"#7201a8\"],[0.3333333333333333,\"#9c179e\"],[0.4444444444444444,\"#bd3786\"],[0.5555555555555556,\"#d8576b\"],[0.6666666666666666,\"#ed7953\"],[0.7777777777777778,\"#fb9f3a\"],[0.8888888888888888,\"#fdca26\"],[1.0,\"#f0f921\"]],\"type\":\"surface\"}],\"table\":[{\"cells\":{\"fill\":{\"color\":\"#EBF0F8\"},\"line\":{\"color\":\"white\"}},\"header\":{\"fill\":{\"color\":\"#C8D4E3\"},\"line\":{\"color\":\"white\"}},\"type\":\"table\"}]},\"layout\":{\"annotationdefaults\":{\"arrowcolor\":\"#2a3f5f\",\"arrowhead\":0,\"arrowwidth\":1},\"autotypenumbers\":\"strict\",\"coloraxis\":{\"colorbar\":{\"outlinewidth\":0,\"ticks\":\"\"}},\"colorscale\":{\"diverging\":[[0,\"#8e0152\"],[0.1,\"#c51b7d\"],[0.2,\"#de77ae\"],[0.3,\"#f1b6da\"],[0.4,\"#fde0ef\"],[0.5,\"#f7f7f7\"],[0.6,\"#e6f5d0\"],[0.7,\"#b8e186\"],[0.8,\"#7fbc41\"],[0.9,\"#4d9221\"],[1,\"#276419\"]],\"sequential\":[[0.0,\"#0d0887\"],[0.1111111111111111,\"#46039f\"],[0.2222222222222222,\"#7201a8\"],[0.3333333333333333,\"#9c179e\"],[0.4444444444444444,\"#bd3786\"],[0.5555555555555556,\"#d8576b\"],[0.6666666666666666,\"#ed7953\"],[0.7777777777777778,\"#fb9f3a\"],[0.8888888888888888,\"#fdca26\"],[1.0,\"#f0f921\"]],\"sequentialminus\":[[0.0,\"#0d0887\"],[0.1111111111111111,\"#46039f\"],[0.2222222222222222,\"#7201a8\"],[0.3333333333333333,\"#9c179e\"],[0.4444444444444444,\"#bd3786\"],[0.5555555555555556,\"#d8576b\"],[0.6666666666666666,\"#ed7953\"],[0.7777777777777778,\"#fb9f3a\"],[0.8888888888888888,\"#fdca26\"],[1.0,\"#f0f921\"]]},\"colorway\":[\"#636efa\",\"#EF553B\",\"#00cc96\",\"#ab63fa\",\"#FFA15A\",\"#19d3f3\",\"#FF6692\",\"#B6E880\",\"#FF97FF\",\"#FECB52\"],\"font\":{\"color\":\"#2a3f5f\"},\"geo\":{\"bgcolor\":\"white\",\"lakecolor\":\"white\",\"landcolor\":\"#E5ECF6\",\"showlakes\":true,\"showland\":true,\"subunitcolor\":\"white\"},\"hoverlabel\":{\"align\":\"left\"},\"hovermode\":\"closest\",\"mapbox\":{\"style\":\"light\"},\"paper_bgcolor\":\"white\",\"plot_bgcolor\":\"#E5ECF6\",\"polar\":{\"angularaxis\":{\"gridcolor\":\"white\",\"linecolor\":\"white\",\"ticks\":\"\"},\"bgcolor\":\"#E5ECF6\",\"radialaxis\":{\"gridcolor\":\"white\",\"linecolor\":\"white\",\"ticks\":\"\"}},\"scene\":{\"xaxis\":{\"backgroundcolor\":\"#E5ECF6\",\"gridcolor\":\"white\",\"gridwidth\":2,\"linecolor\":\"white\",\"showbackground\":true,\"ticks\":\"\",\"zerolinecolor\":\"white\"},\"yaxis\":{\"backgroundcolor\":\"#E5ECF6\",\"gridcolor\":\"white\",\"gridwidth\":2,\"linecolor\":\"white\",\"showbackground\":true,\"ticks\":\"\",\"zerolinecolor\":\"white\"},\"zaxis\":{\"backgroundcolor\":\"#E5ECF6\",\"gridcolor\":\"white\",\"gridwidth\":2,\"linecolor\":\"white\",\"showbackground\":true,\"ticks\":\"\",\"zerolinecolor\":\"white\"}},\"shapedefaults\":{\"line\":{\"color\":\"#2a3f5f\"}},\"ternary\":{\"aaxis\":{\"gridcolor\":\"white\",\"linecolor\":\"white\",\"ticks\":\"\"},\"baxis\":{\"gridcolor\":\"white\",\"linecolor\":\"white\",\"ticks\":\"\"},\"bgcolor\":\"#E5ECF6\",\"caxis\":{\"gridcolor\":\"white\",\"linecolor\":\"white\",\"ticks\":\"\"}},\"title\":{\"x\":0.05},\"xaxis\":{\"automargin\":true,\"gridcolor\":\"white\",\"linecolor\":\"white\",\"ticks\":\"\",\"title\":{\"standoff\":15},\"zerolinecolor\":\"white\",\"zerolinewidth\":2},\"yaxis\":{\"automargin\":true,\"gridcolor\":\"white\",\"linecolor\":\"white\",\"ticks\":\"\",\"title\":{\"standoff\":15},\"zerolinecolor\":\"white\",\"zerolinewidth\":2}}},\"xaxis\":{\"anchor\":\"y\",\"domain\":[0.0,1.0],\"title\":{\"text\":\"gdpp\"}},\"yaxis\":{\"anchor\":\"x\",\"domain\":[0.0,1.0],\"title\":{\"text\":\"count\"}},\"legend\":{\"tracegroupgap\":0},\"margin\":{\"t\":60},\"barmode\":\"overlay\"},                        {\"responsive\": true}                    ).then(function(){\n",
              "                            \n",
              "var gd = document.getElementById('57693b42-6122-4fbd-be90-a88b0545797e');\n",
              "var x = new MutationObserver(function (mutations, observer) {{\n",
              "        var display = window.getComputedStyle(gd).display;\n",
              "        if (!display || display === 'none') {{\n",
              "            console.log([gd, 'removed!']);\n",
              "            Plotly.purge(gd);\n",
              "            observer.disconnect();\n",
              "        }}\n",
              "}});\n",
              "\n",
              "// Listen for the removal of the full notebook cells\n",
              "var notebookContainer = gd.closest('#notebook-container');\n",
              "if (notebookContainer) {{\n",
              "    x.observe(notebookContainer, {childList: true});\n",
              "}}\n",
              "\n",
              "// Listen for the clearing of the current output cell\n",
              "var outputEl = gd.closest('.output');\n",
              "if (outputEl) {{\n",
              "    x.observe(outputEl, {childList: true});\n",
              "}}\n",
              "\n",
              "                        })                };                            </script>        </div>\n",
              "</body>\n",
              "</html>"
            ]
          },
          "metadata": {}
        }
      ],
      "source": [
        "exp.histogram(data_frame=df,x = 'gdpp',nbins=167,opacity=0.75,barmode='overlay')"
      ]
    },
    {
      "cell_type": "code",
      "execution_count": 10,
      "metadata": {
        "colab": {
          "base_uri": "https://localhost:8080/",
          "height": 542
        },
        "id": "l_R4Ky516AxF",
        "outputId": "20ac8c19-6fa8-461f-a48f-9336989eea53"
      },
      "outputs": [
        {
          "output_type": "display_data",
          "data": {
            "text/html": [
              "<html>\n",
              "<head><meta charset=\"utf-8\" /></head>\n",
              "<body>\n",
              "    <div>            <script src=\"https://cdnjs.cloudflare.com/ajax/libs/mathjax/2.7.5/MathJax.js?config=TeX-AMS-MML_SVG\"></script><script type=\"text/javascript\">if (window.MathJax) {MathJax.Hub.Config({SVG: {font: \"STIX-Web\"}});}</script>                <script type=\"text/javascript\">window.PlotlyConfig = {MathJaxConfig: 'local'};</script>\n",
              "        <script src=\"https://cdn.plot.ly/plotly-2.8.3.min.js\"></script>                <div id=\"e7b9918e-7235-4029-896e-6a0e424b991b\" class=\"plotly-graph-div\" style=\"height:525px; width:100%;\"></div>            <script type=\"text/javascript\">                                    window.PLOTLYENV=window.PLOTLYENV || {};                                    if (document.getElementById(\"e7b9918e-7235-4029-896e-6a0e424b991b\")) {                    Plotly.newPlot(                        \"e7b9918e-7235-4029-896e-6a0e424b991b\",                        [{\"hovertemplate\":\"country=Afghanistan<br>child_mort=%{x}<br>health=%{y}<extra></extra>\",\"legendgroup\":\"Afghanistan\",\"marker\":{\"color\":\"#636efa\",\"symbol\":\"circle\"},\"mode\":\"markers\",\"name\":\"Afghanistan\",\"orientation\":\"v\",\"showlegend\":true,\"x\":[90.2],\"xaxis\":\"x\",\"y\":[7.58],\"yaxis\":\"y\",\"type\":\"scatter\"},{\"hovertemplate\":\"country=Albania<br>child_mort=%{x}<br>health=%{y}<extra></extra>\",\"legendgroup\":\"Albania\",\"marker\":{\"color\":\"#EF553B\",\"symbol\":\"circle\"},\"mode\":\"markers\",\"name\":\"Albania\",\"orientation\":\"v\",\"showlegend\":true,\"x\":[16.6],\"xaxis\":\"x\",\"y\":[6.55],\"yaxis\":\"y\",\"type\":\"scatter\"},{\"hovertemplate\":\"country=Algeria<br>child_mort=%{x}<br>health=%{y}<extra></extra>\",\"legendgroup\":\"Algeria\",\"marker\":{\"color\":\"#00cc96\",\"symbol\":\"circle\"},\"mode\":\"markers\",\"name\":\"Algeria\",\"orientation\":\"v\",\"showlegend\":true,\"x\":[27.3],\"xaxis\":\"x\",\"y\":[4.17],\"yaxis\":\"y\",\"type\":\"scatter\"},{\"hovertemplate\":\"country=Angola<br>child_mort=%{x}<br>health=%{y}<extra></extra>\",\"legendgroup\":\"Angola\",\"marker\":{\"color\":\"#ab63fa\",\"symbol\":\"circle\"},\"mode\":\"markers\",\"name\":\"Angola\",\"orientation\":\"v\",\"showlegend\":true,\"x\":[119.0],\"xaxis\":\"x\",\"y\":[2.85],\"yaxis\":\"y\",\"type\":\"scatter\"},{\"hovertemplate\":\"country=Antigua and Barbuda<br>child_mort=%{x}<br>health=%{y}<extra></extra>\",\"legendgroup\":\"Antigua and Barbuda\",\"marker\":{\"color\":\"#FFA15A\",\"symbol\":\"circle\"},\"mode\":\"markers\",\"name\":\"Antigua and Barbuda\",\"orientation\":\"v\",\"showlegend\":true,\"x\":[10.3],\"xaxis\":\"x\",\"y\":[6.03],\"yaxis\":\"y\",\"type\":\"scatter\"},{\"hovertemplate\":\"country=Argentina<br>child_mort=%{x}<br>health=%{y}<extra></extra>\",\"legendgroup\":\"Argentina\",\"marker\":{\"color\":\"#19d3f3\",\"symbol\":\"circle\"},\"mode\":\"markers\",\"name\":\"Argentina\",\"orientation\":\"v\",\"showlegend\":true,\"x\":[14.5],\"xaxis\":\"x\",\"y\":[8.1],\"yaxis\":\"y\",\"type\":\"scatter\"},{\"hovertemplate\":\"country=Armenia<br>child_mort=%{x}<br>health=%{y}<extra></extra>\",\"legendgroup\":\"Armenia\",\"marker\":{\"color\":\"#FF6692\",\"symbol\":\"circle\"},\"mode\":\"markers\",\"name\":\"Armenia\",\"orientation\":\"v\",\"showlegend\":true,\"x\":[18.1],\"xaxis\":\"x\",\"y\":[4.4],\"yaxis\":\"y\",\"type\":\"scatter\"},{\"hovertemplate\":\"country=Australia<br>child_mort=%{x}<br>health=%{y}<extra></extra>\",\"legendgroup\":\"Australia\",\"marker\":{\"color\":\"#B6E880\",\"symbol\":\"circle\"},\"mode\":\"markers\",\"name\":\"Australia\",\"orientation\":\"v\",\"showlegend\":true,\"x\":[4.8],\"xaxis\":\"x\",\"y\":[8.73],\"yaxis\":\"y\",\"type\":\"scatter\"},{\"hovertemplate\":\"country=Austria<br>child_mort=%{x}<br>health=%{y}<extra></extra>\",\"legendgroup\":\"Austria\",\"marker\":{\"color\":\"#FF97FF\",\"symbol\":\"circle\"},\"mode\":\"markers\",\"name\":\"Austria\",\"orientation\":\"v\",\"showlegend\":true,\"x\":[4.3],\"xaxis\":\"x\",\"y\":[11.0],\"yaxis\":\"y\",\"type\":\"scatter\"},{\"hovertemplate\":\"country=Azerbaijan<br>child_mort=%{x}<br>health=%{y}<extra></extra>\",\"legendgroup\":\"Azerbaijan\",\"marker\":{\"color\":\"#FECB52\",\"symbol\":\"circle\"},\"mode\":\"markers\",\"name\":\"Azerbaijan\",\"orientation\":\"v\",\"showlegend\":true,\"x\":[39.2],\"xaxis\":\"x\",\"y\":[5.88],\"yaxis\":\"y\",\"type\":\"scatter\"},{\"hovertemplate\":\"country=Bahamas<br>child_mort=%{x}<br>health=%{y}<extra></extra>\",\"legendgroup\":\"Bahamas\",\"marker\":{\"color\":\"#636efa\",\"symbol\":\"circle\"},\"mode\":\"markers\",\"name\":\"Bahamas\",\"orientation\":\"v\",\"showlegend\":true,\"x\":[13.8],\"xaxis\":\"x\",\"y\":[7.89],\"yaxis\":\"y\",\"type\":\"scatter\"},{\"hovertemplate\":\"country=Bahrain<br>child_mort=%{x}<br>health=%{y}<extra></extra>\",\"legendgroup\":\"Bahrain\",\"marker\":{\"color\":\"#EF553B\",\"symbol\":\"circle\"},\"mode\":\"markers\",\"name\":\"Bahrain\",\"orientation\":\"v\",\"showlegend\":true,\"x\":[8.6],\"xaxis\":\"x\",\"y\":[4.97],\"yaxis\":\"y\",\"type\":\"scatter\"},{\"hovertemplate\":\"country=Bangladesh<br>child_mort=%{x}<br>health=%{y}<extra></extra>\",\"legendgroup\":\"Bangladesh\",\"marker\":{\"color\":\"#00cc96\",\"symbol\":\"circle\"},\"mode\":\"markers\",\"name\":\"Bangladesh\",\"orientation\":\"v\",\"showlegend\":true,\"x\":[49.4],\"xaxis\":\"x\",\"y\":[3.52],\"yaxis\":\"y\",\"type\":\"scatter\"},{\"hovertemplate\":\"country=Barbados<br>child_mort=%{x}<br>health=%{y}<extra></extra>\",\"legendgroup\":\"Barbados\",\"marker\":{\"color\":\"#ab63fa\",\"symbol\":\"circle\"},\"mode\":\"markers\",\"name\":\"Barbados\",\"orientation\":\"v\",\"showlegend\":true,\"x\":[14.2],\"xaxis\":\"x\",\"y\":[7.97],\"yaxis\":\"y\",\"type\":\"scatter\"},{\"hovertemplate\":\"country=Belarus<br>child_mort=%{x}<br>health=%{y}<extra></extra>\",\"legendgroup\":\"Belarus\",\"marker\":{\"color\":\"#FFA15A\",\"symbol\":\"circle\"},\"mode\":\"markers\",\"name\":\"Belarus\",\"orientation\":\"v\",\"showlegend\":true,\"x\":[5.5],\"xaxis\":\"x\",\"y\":[5.61],\"yaxis\":\"y\",\"type\":\"scatter\"},{\"hovertemplate\":\"country=Belgium<br>child_mort=%{x}<br>health=%{y}<extra></extra>\",\"legendgroup\":\"Belgium\",\"marker\":{\"color\":\"#19d3f3\",\"symbol\":\"circle\"},\"mode\":\"markers\",\"name\":\"Belgium\",\"orientation\":\"v\",\"showlegend\":true,\"x\":[4.5],\"xaxis\":\"x\",\"y\":[10.7],\"yaxis\":\"y\",\"type\":\"scatter\"},{\"hovertemplate\":\"country=Belize<br>child_mort=%{x}<br>health=%{y}<extra></extra>\",\"legendgroup\":\"Belize\",\"marker\":{\"color\":\"#FF6692\",\"symbol\":\"circle\"},\"mode\":\"markers\",\"name\":\"Belize\",\"orientation\":\"v\",\"showlegend\":true,\"x\":[18.8],\"xaxis\":\"x\",\"y\":[5.2],\"yaxis\":\"y\",\"type\":\"scatter\"},{\"hovertemplate\":\"country=Benin<br>child_mort=%{x}<br>health=%{y}<extra></extra>\",\"legendgroup\":\"Benin\",\"marker\":{\"color\":\"#B6E880\",\"symbol\":\"circle\"},\"mode\":\"markers\",\"name\":\"Benin\",\"orientation\":\"v\",\"showlegend\":true,\"x\":[111.0],\"xaxis\":\"x\",\"y\":[4.1],\"yaxis\":\"y\",\"type\":\"scatter\"},{\"hovertemplate\":\"country=Bhutan<br>child_mort=%{x}<br>health=%{y}<extra></extra>\",\"legendgroup\":\"Bhutan\",\"marker\":{\"color\":\"#FF97FF\",\"symbol\":\"circle\"},\"mode\":\"markers\",\"name\":\"Bhutan\",\"orientation\":\"v\",\"showlegend\":true,\"x\":[42.7],\"xaxis\":\"x\",\"y\":[5.2],\"yaxis\":\"y\",\"type\":\"scatter\"},{\"hovertemplate\":\"country=Bolivia<br>child_mort=%{x}<br>health=%{y}<extra></extra>\",\"legendgroup\":\"Bolivia\",\"marker\":{\"color\":\"#FECB52\",\"symbol\":\"circle\"},\"mode\":\"markers\",\"name\":\"Bolivia\",\"orientation\":\"v\",\"showlegend\":true,\"x\":[46.6],\"xaxis\":\"x\",\"y\":[4.84],\"yaxis\":\"y\",\"type\":\"scatter\"},{\"hovertemplate\":\"country=Bosnia and Herzegovina<br>child_mort=%{x}<br>health=%{y}<extra></extra>\",\"legendgroup\":\"Bosnia and Herzegovina\",\"marker\":{\"color\":\"#636efa\",\"symbol\":\"circle\"},\"mode\":\"markers\",\"name\":\"Bosnia and Herzegovina\",\"orientation\":\"v\",\"showlegend\":true,\"x\":[6.9],\"xaxis\":\"x\",\"y\":[11.1],\"yaxis\":\"y\",\"type\":\"scatter\"},{\"hovertemplate\":\"country=Botswana<br>child_mort=%{x}<br>health=%{y}<extra></extra>\",\"legendgroup\":\"Botswana\",\"marker\":{\"color\":\"#EF553B\",\"symbol\":\"circle\"},\"mode\":\"markers\",\"name\":\"Botswana\",\"orientation\":\"v\",\"showlegend\":true,\"x\":[52.5],\"xaxis\":\"x\",\"y\":[8.3],\"yaxis\":\"y\",\"type\":\"scatter\"},{\"hovertemplate\":\"country=Brazil<br>child_mort=%{x}<br>health=%{y}<extra></extra>\",\"legendgroup\":\"Brazil\",\"marker\":{\"color\":\"#00cc96\",\"symbol\":\"circle\"},\"mode\":\"markers\",\"name\":\"Brazil\",\"orientation\":\"v\",\"showlegend\":true,\"x\":[19.8],\"xaxis\":\"x\",\"y\":[9.01],\"yaxis\":\"y\",\"type\":\"scatter\"},{\"hovertemplate\":\"country=Brunei<br>child_mort=%{x}<br>health=%{y}<extra></extra>\",\"legendgroup\":\"Brunei\",\"marker\":{\"color\":\"#ab63fa\",\"symbol\":\"circle\"},\"mode\":\"markers\",\"name\":\"Brunei\",\"orientation\":\"v\",\"showlegend\":true,\"x\":[10.5],\"xaxis\":\"x\",\"y\":[2.84],\"yaxis\":\"y\",\"type\":\"scatter\"},{\"hovertemplate\":\"country=Bulgaria<br>child_mort=%{x}<br>health=%{y}<extra></extra>\",\"legendgroup\":\"Bulgaria\",\"marker\":{\"color\":\"#FFA15A\",\"symbol\":\"circle\"},\"mode\":\"markers\",\"name\":\"Bulgaria\",\"orientation\":\"v\",\"showlegend\":true,\"x\":[10.8],\"xaxis\":\"x\",\"y\":[6.87],\"yaxis\":\"y\",\"type\":\"scatter\"},{\"hovertemplate\":\"country=Burkina Faso<br>child_mort=%{x}<br>health=%{y}<extra></extra>\",\"legendgroup\":\"Burkina Faso\",\"marker\":{\"color\":\"#19d3f3\",\"symbol\":\"circle\"},\"mode\":\"markers\",\"name\":\"Burkina Faso\",\"orientation\":\"v\",\"showlegend\":true,\"x\":[116.0],\"xaxis\":\"x\",\"y\":[6.74],\"yaxis\":\"y\",\"type\":\"scatter\"},{\"hovertemplate\":\"country=Burundi<br>child_mort=%{x}<br>health=%{y}<extra></extra>\",\"legendgroup\":\"Burundi\",\"marker\":{\"color\":\"#FF6692\",\"symbol\":\"circle\"},\"mode\":\"markers\",\"name\":\"Burundi\",\"orientation\":\"v\",\"showlegend\":true,\"x\":[93.6],\"xaxis\":\"x\",\"y\":[11.6],\"yaxis\":\"y\",\"type\":\"scatter\"},{\"hovertemplate\":\"country=Cambodia<br>child_mort=%{x}<br>health=%{y}<extra></extra>\",\"legendgroup\":\"Cambodia\",\"marker\":{\"color\":\"#B6E880\",\"symbol\":\"circle\"},\"mode\":\"markers\",\"name\":\"Cambodia\",\"orientation\":\"v\",\"showlegend\":true,\"x\":[44.4],\"xaxis\":\"x\",\"y\":[5.68],\"yaxis\":\"y\",\"type\":\"scatter\"},{\"hovertemplate\":\"country=Cameroon<br>child_mort=%{x}<br>health=%{y}<extra></extra>\",\"legendgroup\":\"Cameroon\",\"marker\":{\"color\":\"#FF97FF\",\"symbol\":\"circle\"},\"mode\":\"markers\",\"name\":\"Cameroon\",\"orientation\":\"v\",\"showlegend\":true,\"x\":[108.0],\"xaxis\":\"x\",\"y\":[5.13],\"yaxis\":\"y\",\"type\":\"scatter\"},{\"hovertemplate\":\"country=Canada<br>child_mort=%{x}<br>health=%{y}<extra></extra>\",\"legendgroup\":\"Canada\",\"marker\":{\"color\":\"#FECB52\",\"symbol\":\"circle\"},\"mode\":\"markers\",\"name\":\"Canada\",\"orientation\":\"v\",\"showlegend\":true,\"x\":[5.6],\"xaxis\":\"x\",\"y\":[11.3],\"yaxis\":\"y\",\"type\":\"scatter\"},{\"hovertemplate\":\"country=Cape Verde<br>child_mort=%{x}<br>health=%{y}<extra></extra>\",\"legendgroup\":\"Cape Verde\",\"marker\":{\"color\":\"#636efa\",\"symbol\":\"circle\"},\"mode\":\"markers\",\"name\":\"Cape Verde\",\"orientation\":\"v\",\"showlegend\":true,\"x\":[26.5],\"xaxis\":\"x\",\"y\":[4.09],\"yaxis\":\"y\",\"type\":\"scatter\"},{\"hovertemplate\":\"country=Central African Republic<br>child_mort=%{x}<br>health=%{y}<extra></extra>\",\"legendgroup\":\"Central African Republic\",\"marker\":{\"color\":\"#EF553B\",\"symbol\":\"circle\"},\"mode\":\"markers\",\"name\":\"Central African Republic\",\"orientation\":\"v\",\"showlegend\":true,\"x\":[149.0],\"xaxis\":\"x\",\"y\":[3.98],\"yaxis\":\"y\",\"type\":\"scatter\"},{\"hovertemplate\":\"country=Chad<br>child_mort=%{x}<br>health=%{y}<extra></extra>\",\"legendgroup\":\"Chad\",\"marker\":{\"color\":\"#00cc96\",\"symbol\":\"circle\"},\"mode\":\"markers\",\"name\":\"Chad\",\"orientation\":\"v\",\"showlegend\":true,\"x\":[150.0],\"xaxis\":\"x\",\"y\":[4.53],\"yaxis\":\"y\",\"type\":\"scatter\"},{\"hovertemplate\":\"country=Chile<br>child_mort=%{x}<br>health=%{y}<extra></extra>\",\"legendgroup\":\"Chile\",\"marker\":{\"color\":\"#ab63fa\",\"symbol\":\"circle\"},\"mode\":\"markers\",\"name\":\"Chile\",\"orientation\":\"v\",\"showlegend\":true,\"x\":[8.7],\"xaxis\":\"x\",\"y\":[7.96],\"yaxis\":\"y\",\"type\":\"scatter\"},{\"hovertemplate\":\"country=China<br>child_mort=%{x}<br>health=%{y}<extra></extra>\",\"legendgroup\":\"China\",\"marker\":{\"color\":\"#FFA15A\",\"symbol\":\"circle\"},\"mode\":\"markers\",\"name\":\"China\",\"orientation\":\"v\",\"showlegend\":true,\"x\":[15.7],\"xaxis\":\"x\",\"y\":[5.07],\"yaxis\":\"y\",\"type\":\"scatter\"},{\"hovertemplate\":\"country=Colombia<br>child_mort=%{x}<br>health=%{y}<extra></extra>\",\"legendgroup\":\"Colombia\",\"marker\":{\"color\":\"#19d3f3\",\"symbol\":\"circle\"},\"mode\":\"markers\",\"name\":\"Colombia\",\"orientation\":\"v\",\"showlegend\":true,\"x\":[18.6],\"xaxis\":\"x\",\"y\":[7.59],\"yaxis\":\"y\",\"type\":\"scatter\"},{\"hovertemplate\":\"country=Comoros<br>child_mort=%{x}<br>health=%{y}<extra></extra>\",\"legendgroup\":\"Comoros\",\"marker\":{\"color\":\"#FF6692\",\"symbol\":\"circle\"},\"mode\":\"markers\",\"name\":\"Comoros\",\"orientation\":\"v\",\"showlegend\":true,\"x\":[88.2],\"xaxis\":\"x\",\"y\":[4.51],\"yaxis\":\"y\",\"type\":\"scatter\"},{\"hovertemplate\":\"country=Congo, Dem. Rep.<br>child_mort=%{x}<br>health=%{y}<extra></extra>\",\"legendgroup\":\"Congo, Dem. Rep.\",\"marker\":{\"color\":\"#B6E880\",\"symbol\":\"circle\"},\"mode\":\"markers\",\"name\":\"Congo, Dem. Rep.\",\"orientation\":\"v\",\"showlegend\":true,\"x\":[116.0],\"xaxis\":\"x\",\"y\":[7.91],\"yaxis\":\"y\",\"type\":\"scatter\"},{\"hovertemplate\":\"country=Congo, Rep.<br>child_mort=%{x}<br>health=%{y}<extra></extra>\",\"legendgroup\":\"Congo, Rep.\",\"marker\":{\"color\":\"#FF97FF\",\"symbol\":\"circle\"},\"mode\":\"markers\",\"name\":\"Congo, Rep.\",\"orientation\":\"v\",\"showlegend\":true,\"x\":[63.9],\"xaxis\":\"x\",\"y\":[2.46],\"yaxis\":\"y\",\"type\":\"scatter\"},{\"hovertemplate\":\"country=Costa Rica<br>child_mort=%{x}<br>health=%{y}<extra></extra>\",\"legendgroup\":\"Costa Rica\",\"marker\":{\"color\":\"#FECB52\",\"symbol\":\"circle\"},\"mode\":\"markers\",\"name\":\"Costa Rica\",\"orientation\":\"v\",\"showlegend\":true,\"x\":[10.2],\"xaxis\":\"x\",\"y\":[10.9],\"yaxis\":\"y\",\"type\":\"scatter\"},{\"hovertemplate\":\"country=Cote d'Ivoire<br>child_mort=%{x}<br>health=%{y}<extra></extra>\",\"legendgroup\":\"Cote d'Ivoire\",\"marker\":{\"color\":\"#636efa\",\"symbol\":\"circle\"},\"mode\":\"markers\",\"name\":\"Cote d'Ivoire\",\"orientation\":\"v\",\"showlegend\":true,\"x\":[111.0],\"xaxis\":\"x\",\"y\":[5.3],\"yaxis\":\"y\",\"type\":\"scatter\"},{\"hovertemplate\":\"country=Croatia<br>child_mort=%{x}<br>health=%{y}<extra></extra>\",\"legendgroup\":\"Croatia\",\"marker\":{\"color\":\"#EF553B\",\"symbol\":\"circle\"},\"mode\":\"markers\",\"name\":\"Croatia\",\"orientation\":\"v\",\"showlegend\":true,\"x\":[5.5],\"xaxis\":\"x\",\"y\":[7.76],\"yaxis\":\"y\",\"type\":\"scatter\"},{\"hovertemplate\":\"country=Cyprus<br>child_mort=%{x}<br>health=%{y}<extra></extra>\",\"legendgroup\":\"Cyprus\",\"marker\":{\"color\":\"#00cc96\",\"symbol\":\"circle\"},\"mode\":\"markers\",\"name\":\"Cyprus\",\"orientation\":\"v\",\"showlegend\":true,\"x\":[3.6],\"xaxis\":\"x\",\"y\":[5.97],\"yaxis\":\"y\",\"type\":\"scatter\"},{\"hovertemplate\":\"country=Czech Republic<br>child_mort=%{x}<br>health=%{y}<extra></extra>\",\"legendgroup\":\"Czech Republic\",\"marker\":{\"color\":\"#ab63fa\",\"symbol\":\"circle\"},\"mode\":\"markers\",\"name\":\"Czech Republic\",\"orientation\":\"v\",\"showlegend\":true,\"x\":[3.4],\"xaxis\":\"x\",\"y\":[7.88],\"yaxis\":\"y\",\"type\":\"scatter\"},{\"hovertemplate\":\"country=Denmark<br>child_mort=%{x}<br>health=%{y}<extra></extra>\",\"legendgroup\":\"Denmark\",\"marker\":{\"color\":\"#FFA15A\",\"symbol\":\"circle\"},\"mode\":\"markers\",\"name\":\"Denmark\",\"orientation\":\"v\",\"showlegend\":true,\"x\":[4.1],\"xaxis\":\"x\",\"y\":[11.4],\"yaxis\":\"y\",\"type\":\"scatter\"},{\"hovertemplate\":\"country=Dominican Republic<br>child_mort=%{x}<br>health=%{y}<extra></extra>\",\"legendgroup\":\"Dominican Republic\",\"marker\":{\"color\":\"#19d3f3\",\"symbol\":\"circle\"},\"mode\":\"markers\",\"name\":\"Dominican Republic\",\"orientation\":\"v\",\"showlegend\":true,\"x\":[34.4],\"xaxis\":\"x\",\"y\":[6.22],\"yaxis\":\"y\",\"type\":\"scatter\"},{\"hovertemplate\":\"country=Ecuador<br>child_mort=%{x}<br>health=%{y}<extra></extra>\",\"legendgroup\":\"Ecuador\",\"marker\":{\"color\":\"#FF6692\",\"symbol\":\"circle\"},\"mode\":\"markers\",\"name\":\"Ecuador\",\"orientation\":\"v\",\"showlegend\":true,\"x\":[25.1],\"xaxis\":\"x\",\"y\":[8.06],\"yaxis\":\"y\",\"type\":\"scatter\"},{\"hovertemplate\":\"country=Egypt<br>child_mort=%{x}<br>health=%{y}<extra></extra>\",\"legendgroup\":\"Egypt\",\"marker\":{\"color\":\"#B6E880\",\"symbol\":\"circle\"},\"mode\":\"markers\",\"name\":\"Egypt\",\"orientation\":\"v\",\"showlegend\":true,\"x\":[29.1],\"xaxis\":\"x\",\"y\":[4.66],\"yaxis\":\"y\",\"type\":\"scatter\"},{\"hovertemplate\":\"country=El Salvador<br>child_mort=%{x}<br>health=%{y}<extra></extra>\",\"legendgroup\":\"El Salvador\",\"marker\":{\"color\":\"#FF97FF\",\"symbol\":\"circle\"},\"mode\":\"markers\",\"name\":\"El Salvador\",\"orientation\":\"v\",\"showlegend\":true,\"x\":[19.2],\"xaxis\":\"x\",\"y\":[6.91],\"yaxis\":\"y\",\"type\":\"scatter\"},{\"hovertemplate\":\"country=Equatorial Guinea<br>child_mort=%{x}<br>health=%{y}<extra></extra>\",\"legendgroup\":\"Equatorial Guinea\",\"marker\":{\"color\":\"#FECB52\",\"symbol\":\"circle\"},\"mode\":\"markers\",\"name\":\"Equatorial Guinea\",\"orientation\":\"v\",\"showlegend\":true,\"x\":[111.0],\"xaxis\":\"x\",\"y\":[4.48],\"yaxis\":\"y\",\"type\":\"scatter\"},{\"hovertemplate\":\"country=Eritrea<br>child_mort=%{x}<br>health=%{y}<extra></extra>\",\"legendgroup\":\"Eritrea\",\"marker\":{\"color\":\"#636efa\",\"symbol\":\"circle\"},\"mode\":\"markers\",\"name\":\"Eritrea\",\"orientation\":\"v\",\"showlegend\":true,\"x\":[55.2],\"xaxis\":\"x\",\"y\":[2.66],\"yaxis\":\"y\",\"type\":\"scatter\"},{\"hovertemplate\":\"country=Estonia<br>child_mort=%{x}<br>health=%{y}<extra></extra>\",\"legendgroup\":\"Estonia\",\"marker\":{\"color\":\"#EF553B\",\"symbol\":\"circle\"},\"mode\":\"markers\",\"name\":\"Estonia\",\"orientation\":\"v\",\"showlegend\":true,\"x\":[4.5],\"xaxis\":\"x\",\"y\":[6.03],\"yaxis\":\"y\",\"type\":\"scatter\"},{\"hovertemplate\":\"country=Fiji<br>child_mort=%{x}<br>health=%{y}<extra></extra>\",\"legendgroup\":\"Fiji\",\"marker\":{\"color\":\"#00cc96\",\"symbol\":\"circle\"},\"mode\":\"markers\",\"name\":\"Fiji\",\"orientation\":\"v\",\"showlegend\":true,\"x\":[24.1],\"xaxis\":\"x\",\"y\":[4.86],\"yaxis\":\"y\",\"type\":\"scatter\"},{\"hovertemplate\":\"country=Finland<br>child_mort=%{x}<br>health=%{y}<extra></extra>\",\"legendgroup\":\"Finland\",\"marker\":{\"color\":\"#ab63fa\",\"symbol\":\"circle\"},\"mode\":\"markers\",\"name\":\"Finland\",\"orientation\":\"v\",\"showlegend\":true,\"x\":[3.0],\"xaxis\":\"x\",\"y\":[8.95],\"yaxis\":\"y\",\"type\":\"scatter\"},{\"hovertemplate\":\"country=France<br>child_mort=%{x}<br>health=%{y}<extra></extra>\",\"legendgroup\":\"France\",\"marker\":{\"color\":\"#FFA15A\",\"symbol\":\"circle\"},\"mode\":\"markers\",\"name\":\"France\",\"orientation\":\"v\",\"showlegend\":true,\"x\":[4.2],\"xaxis\":\"x\",\"y\":[11.9],\"yaxis\":\"y\",\"type\":\"scatter\"},{\"hovertemplate\":\"country=Gabon<br>child_mort=%{x}<br>health=%{y}<extra></extra>\",\"legendgroup\":\"Gabon\",\"marker\":{\"color\":\"#19d3f3\",\"symbol\":\"circle\"},\"mode\":\"markers\",\"name\":\"Gabon\",\"orientation\":\"v\",\"showlegend\":true,\"x\":[63.7],\"xaxis\":\"x\",\"y\":[3.5],\"yaxis\":\"y\",\"type\":\"scatter\"},{\"hovertemplate\":\"country=Gambia<br>child_mort=%{x}<br>health=%{y}<extra></extra>\",\"legendgroup\":\"Gambia\",\"marker\":{\"color\":\"#FF6692\",\"symbol\":\"circle\"},\"mode\":\"markers\",\"name\":\"Gambia\",\"orientation\":\"v\",\"showlegend\":true,\"x\":[80.3],\"xaxis\":\"x\",\"y\":[5.69],\"yaxis\":\"y\",\"type\":\"scatter\"},{\"hovertemplate\":\"country=Georgia<br>child_mort=%{x}<br>health=%{y}<extra></extra>\",\"legendgroup\":\"Georgia\",\"marker\":{\"color\":\"#B6E880\",\"symbol\":\"circle\"},\"mode\":\"markers\",\"name\":\"Georgia\",\"orientation\":\"v\",\"showlegend\":true,\"x\":[16.5],\"xaxis\":\"x\",\"y\":[10.1],\"yaxis\":\"y\",\"type\":\"scatter\"},{\"hovertemplate\":\"country=Germany<br>child_mort=%{x}<br>health=%{y}<extra></extra>\",\"legendgroup\":\"Germany\",\"marker\":{\"color\":\"#FF97FF\",\"symbol\":\"circle\"},\"mode\":\"markers\",\"name\":\"Germany\",\"orientation\":\"v\",\"showlegend\":true,\"x\":[4.2],\"xaxis\":\"x\",\"y\":[11.6],\"yaxis\":\"y\",\"type\":\"scatter\"},{\"hovertemplate\":\"country=Ghana<br>child_mort=%{x}<br>health=%{y}<extra></extra>\",\"legendgroup\":\"Ghana\",\"marker\":{\"color\":\"#FECB52\",\"symbol\":\"circle\"},\"mode\":\"markers\",\"name\":\"Ghana\",\"orientation\":\"v\",\"showlegend\":true,\"x\":[74.7],\"xaxis\":\"x\",\"y\":[5.22],\"yaxis\":\"y\",\"type\":\"scatter\"},{\"hovertemplate\":\"country=Greece<br>child_mort=%{x}<br>health=%{y}<extra></extra>\",\"legendgroup\":\"Greece\",\"marker\":{\"color\":\"#636efa\",\"symbol\":\"circle\"},\"mode\":\"markers\",\"name\":\"Greece\",\"orientation\":\"v\",\"showlegend\":true,\"x\":[3.9],\"xaxis\":\"x\",\"y\":[10.3],\"yaxis\":\"y\",\"type\":\"scatter\"},{\"hovertemplate\":\"country=Grenada<br>child_mort=%{x}<br>health=%{y}<extra></extra>\",\"legendgroup\":\"Grenada\",\"marker\":{\"color\":\"#EF553B\",\"symbol\":\"circle\"},\"mode\":\"markers\",\"name\":\"Grenada\",\"orientation\":\"v\",\"showlegend\":true,\"x\":[14.6],\"xaxis\":\"x\",\"y\":[5.86],\"yaxis\":\"y\",\"type\":\"scatter\"},{\"hovertemplate\":\"country=Guatemala<br>child_mort=%{x}<br>health=%{y}<extra></extra>\",\"legendgroup\":\"Guatemala\",\"marker\":{\"color\":\"#00cc96\",\"symbol\":\"circle\"},\"mode\":\"markers\",\"name\":\"Guatemala\",\"orientation\":\"v\",\"showlegend\":true,\"x\":[35.4],\"xaxis\":\"x\",\"y\":[6.85],\"yaxis\":\"y\",\"type\":\"scatter\"},{\"hovertemplate\":\"country=Guinea<br>child_mort=%{x}<br>health=%{y}<extra></extra>\",\"legendgroup\":\"Guinea\",\"marker\":{\"color\":\"#ab63fa\",\"symbol\":\"circle\"},\"mode\":\"markers\",\"name\":\"Guinea\",\"orientation\":\"v\",\"showlegend\":true,\"x\":[109.0],\"xaxis\":\"x\",\"y\":[4.93],\"yaxis\":\"y\",\"type\":\"scatter\"},{\"hovertemplate\":\"country=Guinea-Bissau<br>child_mort=%{x}<br>health=%{y}<extra></extra>\",\"legendgroup\":\"Guinea-Bissau\",\"marker\":{\"color\":\"#FFA15A\",\"symbol\":\"circle\"},\"mode\":\"markers\",\"name\":\"Guinea-Bissau\",\"orientation\":\"v\",\"showlegend\":true,\"x\":[114.0],\"xaxis\":\"x\",\"y\":[8.5],\"yaxis\":\"y\",\"type\":\"scatter\"},{\"hovertemplate\":\"country=Guyana<br>child_mort=%{x}<br>health=%{y}<extra></extra>\",\"legendgroup\":\"Guyana\",\"marker\":{\"color\":\"#19d3f3\",\"symbol\":\"circle\"},\"mode\":\"markers\",\"name\":\"Guyana\",\"orientation\":\"v\",\"showlegend\":true,\"x\":[37.6],\"xaxis\":\"x\",\"y\":[5.38],\"yaxis\":\"y\",\"type\":\"scatter\"},{\"hovertemplate\":\"country=Haiti<br>child_mort=%{x}<br>health=%{y}<extra></extra>\",\"legendgroup\":\"Haiti\",\"marker\":{\"color\":\"#FF6692\",\"symbol\":\"circle\"},\"mode\":\"markers\",\"name\":\"Haiti\",\"orientation\":\"v\",\"showlegend\":true,\"x\":[208.0],\"xaxis\":\"x\",\"y\":[6.91],\"yaxis\":\"y\",\"type\":\"scatter\"},{\"hovertemplate\":\"country=Hungary<br>child_mort=%{x}<br>health=%{y}<extra></extra>\",\"legendgroup\":\"Hungary\",\"marker\":{\"color\":\"#B6E880\",\"symbol\":\"circle\"},\"mode\":\"markers\",\"name\":\"Hungary\",\"orientation\":\"v\",\"showlegend\":true,\"x\":[6.0],\"xaxis\":\"x\",\"y\":[7.33],\"yaxis\":\"y\",\"type\":\"scatter\"},{\"hovertemplate\":\"country=Iceland<br>child_mort=%{x}<br>health=%{y}<extra></extra>\",\"legendgroup\":\"Iceland\",\"marker\":{\"color\":\"#FF97FF\",\"symbol\":\"circle\"},\"mode\":\"markers\",\"name\":\"Iceland\",\"orientation\":\"v\",\"showlegend\":true,\"x\":[2.6],\"xaxis\":\"x\",\"y\":[9.4],\"yaxis\":\"y\",\"type\":\"scatter\"},{\"hovertemplate\":\"country=India<br>child_mort=%{x}<br>health=%{y}<extra></extra>\",\"legendgroup\":\"India\",\"marker\":{\"color\":\"#FECB52\",\"symbol\":\"circle\"},\"mode\":\"markers\",\"name\":\"India\",\"orientation\":\"v\",\"showlegend\":true,\"x\":[58.8],\"xaxis\":\"x\",\"y\":[4.05],\"yaxis\":\"y\",\"type\":\"scatter\"},{\"hovertemplate\":\"country=Indonesia<br>child_mort=%{x}<br>health=%{y}<extra></extra>\",\"legendgroup\":\"Indonesia\",\"marker\":{\"color\":\"#636efa\",\"symbol\":\"circle\"},\"mode\":\"markers\",\"name\":\"Indonesia\",\"orientation\":\"v\",\"showlegend\":true,\"x\":[33.3],\"xaxis\":\"x\",\"y\":[2.61],\"yaxis\":\"y\",\"type\":\"scatter\"},{\"hovertemplate\":\"country=Iran<br>child_mort=%{x}<br>health=%{y}<extra></extra>\",\"legendgroup\":\"Iran\",\"marker\":{\"color\":\"#EF553B\",\"symbol\":\"circle\"},\"mode\":\"markers\",\"name\":\"Iran\",\"orientation\":\"v\",\"showlegend\":true,\"x\":[19.3],\"xaxis\":\"x\",\"y\":[5.6],\"yaxis\":\"y\",\"type\":\"scatter\"},{\"hovertemplate\":\"country=Iraq<br>child_mort=%{x}<br>health=%{y}<extra></extra>\",\"legendgroup\":\"Iraq\",\"marker\":{\"color\":\"#00cc96\",\"symbol\":\"circle\"},\"mode\":\"markers\",\"name\":\"Iraq\",\"orientation\":\"v\",\"showlegend\":true,\"x\":[36.9],\"xaxis\":\"x\",\"y\":[8.41],\"yaxis\":\"y\",\"type\":\"scatter\"},{\"hovertemplate\":\"country=Ireland<br>child_mort=%{x}<br>health=%{y}<extra></extra>\",\"legendgroup\":\"Ireland\",\"marker\":{\"color\":\"#ab63fa\",\"symbol\":\"circle\"},\"mode\":\"markers\",\"name\":\"Ireland\",\"orientation\":\"v\",\"showlegend\":true,\"x\":[4.2],\"xaxis\":\"x\",\"y\":[9.19],\"yaxis\":\"y\",\"type\":\"scatter\"},{\"hovertemplate\":\"country=Israel<br>child_mort=%{x}<br>health=%{y}<extra></extra>\",\"legendgroup\":\"Israel\",\"marker\":{\"color\":\"#FFA15A\",\"symbol\":\"circle\"},\"mode\":\"markers\",\"name\":\"Israel\",\"orientation\":\"v\",\"showlegend\":true,\"x\":[4.6],\"xaxis\":\"x\",\"y\":[7.63],\"yaxis\":\"y\",\"type\":\"scatter\"},{\"hovertemplate\":\"country=Italy<br>child_mort=%{x}<br>health=%{y}<extra></extra>\",\"legendgroup\":\"Italy\",\"marker\":{\"color\":\"#19d3f3\",\"symbol\":\"circle\"},\"mode\":\"markers\",\"name\":\"Italy\",\"orientation\":\"v\",\"showlegend\":true,\"x\":[4.0],\"xaxis\":\"x\",\"y\":[9.53],\"yaxis\":\"y\",\"type\":\"scatter\"},{\"hovertemplate\":\"country=Jamaica<br>child_mort=%{x}<br>health=%{y}<extra></extra>\",\"legendgroup\":\"Jamaica\",\"marker\":{\"color\":\"#FF6692\",\"symbol\":\"circle\"},\"mode\":\"markers\",\"name\":\"Jamaica\",\"orientation\":\"v\",\"showlegend\":true,\"x\":[18.1],\"xaxis\":\"x\",\"y\":[4.81],\"yaxis\":\"y\",\"type\":\"scatter\"},{\"hovertemplate\":\"country=Japan<br>child_mort=%{x}<br>health=%{y}<extra></extra>\",\"legendgroup\":\"Japan\",\"marker\":{\"color\":\"#B6E880\",\"symbol\":\"circle\"},\"mode\":\"markers\",\"name\":\"Japan\",\"orientation\":\"v\",\"showlegend\":true,\"x\":[3.2],\"xaxis\":\"x\",\"y\":[9.49],\"yaxis\":\"y\",\"type\":\"scatter\"},{\"hovertemplate\":\"country=Jordan<br>child_mort=%{x}<br>health=%{y}<extra></extra>\",\"legendgroup\":\"Jordan\",\"marker\":{\"color\":\"#FF97FF\",\"symbol\":\"circle\"},\"mode\":\"markers\",\"name\":\"Jordan\",\"orientation\":\"v\",\"showlegend\":true,\"x\":[21.1],\"xaxis\":\"x\",\"y\":[8.04],\"yaxis\":\"y\",\"type\":\"scatter\"},{\"hovertemplate\":\"country=Kazakhstan<br>child_mort=%{x}<br>health=%{y}<extra></extra>\",\"legendgroup\":\"Kazakhstan\",\"marker\":{\"color\":\"#FECB52\",\"symbol\":\"circle\"},\"mode\":\"markers\",\"name\":\"Kazakhstan\",\"orientation\":\"v\",\"showlegend\":true,\"x\":[21.5],\"xaxis\":\"x\",\"y\":[4.29],\"yaxis\":\"y\",\"type\":\"scatter\"},{\"hovertemplate\":\"country=Kenya<br>child_mort=%{x}<br>health=%{y}<extra></extra>\",\"legendgroup\":\"Kenya\",\"marker\":{\"color\":\"#636efa\",\"symbol\":\"circle\"},\"mode\":\"markers\",\"name\":\"Kenya\",\"orientation\":\"v\",\"showlegend\":true,\"x\":[62.2],\"xaxis\":\"x\",\"y\":[4.75],\"yaxis\":\"y\",\"type\":\"scatter\"},{\"hovertemplate\":\"country=Kiribati<br>child_mort=%{x}<br>health=%{y}<extra></extra>\",\"legendgroup\":\"Kiribati\",\"marker\":{\"color\":\"#EF553B\",\"symbol\":\"circle\"},\"mode\":\"markers\",\"name\":\"Kiribati\",\"orientation\":\"v\",\"showlegend\":true,\"x\":[62.7],\"xaxis\":\"x\",\"y\":[11.3],\"yaxis\":\"y\",\"type\":\"scatter\"},{\"hovertemplate\":\"country=Kuwait<br>child_mort=%{x}<br>health=%{y}<extra></extra>\",\"legendgroup\":\"Kuwait\",\"marker\":{\"color\":\"#00cc96\",\"symbol\":\"circle\"},\"mode\":\"markers\",\"name\":\"Kuwait\",\"orientation\":\"v\",\"showlegend\":true,\"x\":[10.8],\"xaxis\":\"x\",\"y\":[2.63],\"yaxis\":\"y\",\"type\":\"scatter\"},{\"hovertemplate\":\"country=Kyrgyz Republic<br>child_mort=%{x}<br>health=%{y}<extra></extra>\",\"legendgroup\":\"Kyrgyz Republic\",\"marker\":{\"color\":\"#ab63fa\",\"symbol\":\"circle\"},\"mode\":\"markers\",\"name\":\"Kyrgyz Republic\",\"orientation\":\"v\",\"showlegend\":true,\"x\":[29.6],\"xaxis\":\"x\",\"y\":[6.18],\"yaxis\":\"y\",\"type\":\"scatter\"},{\"hovertemplate\":\"country=Lao<br>child_mort=%{x}<br>health=%{y}<extra></extra>\",\"legendgroup\":\"Lao\",\"marker\":{\"color\":\"#FFA15A\",\"symbol\":\"circle\"},\"mode\":\"markers\",\"name\":\"Lao\",\"orientation\":\"v\",\"showlegend\":true,\"x\":[78.9],\"xaxis\":\"x\",\"y\":[4.47],\"yaxis\":\"y\",\"type\":\"scatter\"},{\"hovertemplate\":\"country=Latvia<br>child_mort=%{x}<br>health=%{y}<extra></extra>\",\"legendgroup\":\"Latvia\",\"marker\":{\"color\":\"#19d3f3\",\"symbol\":\"circle\"},\"mode\":\"markers\",\"name\":\"Latvia\",\"orientation\":\"v\",\"showlegend\":true,\"x\":[7.8],\"xaxis\":\"x\",\"y\":[6.68],\"yaxis\":\"y\",\"type\":\"scatter\"},{\"hovertemplate\":\"country=Lebanon<br>child_mort=%{x}<br>health=%{y}<extra></extra>\",\"legendgroup\":\"Lebanon\",\"marker\":{\"color\":\"#FF6692\",\"symbol\":\"circle\"},\"mode\":\"markers\",\"name\":\"Lebanon\",\"orientation\":\"v\",\"showlegend\":true,\"x\":[10.3],\"xaxis\":\"x\",\"y\":[7.03],\"yaxis\":\"y\",\"type\":\"scatter\"},{\"hovertemplate\":\"country=Lesotho<br>child_mort=%{x}<br>health=%{y}<extra></extra>\",\"legendgroup\":\"Lesotho\",\"marker\":{\"color\":\"#B6E880\",\"symbol\":\"circle\"},\"mode\":\"markers\",\"name\":\"Lesotho\",\"orientation\":\"v\",\"showlegend\":true,\"x\":[99.7],\"xaxis\":\"x\",\"y\":[11.1],\"yaxis\":\"y\",\"type\":\"scatter\"},{\"hovertemplate\":\"country=Liberia<br>child_mort=%{x}<br>health=%{y}<extra></extra>\",\"legendgroup\":\"Liberia\",\"marker\":{\"color\":\"#FF97FF\",\"symbol\":\"circle\"},\"mode\":\"markers\",\"name\":\"Liberia\",\"orientation\":\"v\",\"showlegend\":true,\"x\":[89.3],\"xaxis\":\"x\",\"y\":[11.8],\"yaxis\":\"y\",\"type\":\"scatter\"},{\"hovertemplate\":\"country=Libya<br>child_mort=%{x}<br>health=%{y}<extra></extra>\",\"legendgroup\":\"Libya\",\"marker\":{\"color\":\"#FECB52\",\"symbol\":\"circle\"},\"mode\":\"markers\",\"name\":\"Libya\",\"orientation\":\"v\",\"showlegend\":true,\"x\":[16.6],\"xaxis\":\"x\",\"y\":[3.88],\"yaxis\":\"y\",\"type\":\"scatter\"},{\"hovertemplate\":\"country=Lithuania<br>child_mort=%{x}<br>health=%{y}<extra></extra>\",\"legendgroup\":\"Lithuania\",\"marker\":{\"color\":\"#636efa\",\"symbol\":\"circle\"},\"mode\":\"markers\",\"name\":\"Lithuania\",\"orientation\":\"v\",\"showlegend\":true,\"x\":[6.1],\"xaxis\":\"x\",\"y\":[7.04],\"yaxis\":\"y\",\"type\":\"scatter\"},{\"hovertemplate\":\"country=Luxembourg<br>child_mort=%{x}<br>health=%{y}<extra></extra>\",\"legendgroup\":\"Luxembourg\",\"marker\":{\"color\":\"#EF553B\",\"symbol\":\"circle\"},\"mode\":\"markers\",\"name\":\"Luxembourg\",\"orientation\":\"v\",\"showlegend\":true,\"x\":[2.8],\"xaxis\":\"x\",\"y\":[7.77],\"yaxis\":\"y\",\"type\":\"scatter\"},{\"hovertemplate\":\"country=Macedonia, FYR<br>child_mort=%{x}<br>health=%{y}<extra></extra>\",\"legendgroup\":\"Macedonia, FYR\",\"marker\":{\"color\":\"#00cc96\",\"symbol\":\"circle\"},\"mode\":\"markers\",\"name\":\"Macedonia, FYR\",\"orientation\":\"v\",\"showlegend\":true,\"x\":[10.4],\"xaxis\":\"x\",\"y\":[7.09],\"yaxis\":\"y\",\"type\":\"scatter\"},{\"hovertemplate\":\"country=Madagascar<br>child_mort=%{x}<br>health=%{y}<extra></extra>\",\"legendgroup\":\"Madagascar\",\"marker\":{\"color\":\"#ab63fa\",\"symbol\":\"circle\"},\"mode\":\"markers\",\"name\":\"Madagascar\",\"orientation\":\"v\",\"showlegend\":true,\"x\":[62.2],\"xaxis\":\"x\",\"y\":[3.77],\"yaxis\":\"y\",\"type\":\"scatter\"},{\"hovertemplate\":\"country=Malawi<br>child_mort=%{x}<br>health=%{y}<extra></extra>\",\"legendgroup\":\"Malawi\",\"marker\":{\"color\":\"#FFA15A\",\"symbol\":\"circle\"},\"mode\":\"markers\",\"name\":\"Malawi\",\"orientation\":\"v\",\"showlegend\":true,\"x\":[90.5],\"xaxis\":\"x\",\"y\":[6.59],\"yaxis\":\"y\",\"type\":\"scatter\"},{\"hovertemplate\":\"country=Malaysia<br>child_mort=%{x}<br>health=%{y}<extra></extra>\",\"legendgroup\":\"Malaysia\",\"marker\":{\"color\":\"#19d3f3\",\"symbol\":\"circle\"},\"mode\":\"markers\",\"name\":\"Malaysia\",\"orientation\":\"v\",\"showlegend\":true,\"x\":[7.9],\"xaxis\":\"x\",\"y\":[4.39],\"yaxis\":\"y\",\"type\":\"scatter\"},{\"hovertemplate\":\"country=Maldives<br>child_mort=%{x}<br>health=%{y}<extra></extra>\",\"legendgroup\":\"Maldives\",\"marker\":{\"color\":\"#FF6692\",\"symbol\":\"circle\"},\"mode\":\"markers\",\"name\":\"Maldives\",\"orientation\":\"v\",\"showlegend\":true,\"x\":[13.2],\"xaxis\":\"x\",\"y\":[6.33],\"yaxis\":\"y\",\"type\":\"scatter\"},{\"hovertemplate\":\"country=Mali<br>child_mort=%{x}<br>health=%{y}<extra></extra>\",\"legendgroup\":\"Mali\",\"marker\":{\"color\":\"#B6E880\",\"symbol\":\"circle\"},\"mode\":\"markers\",\"name\":\"Mali\",\"orientation\":\"v\",\"showlegend\":true,\"x\":[137.0],\"xaxis\":\"x\",\"y\":[4.98],\"yaxis\":\"y\",\"type\":\"scatter\"},{\"hovertemplate\":\"country=Malta<br>child_mort=%{x}<br>health=%{y}<extra></extra>\",\"legendgroup\":\"Malta\",\"marker\":{\"color\":\"#FF97FF\",\"symbol\":\"circle\"},\"mode\":\"markers\",\"name\":\"Malta\",\"orientation\":\"v\",\"showlegend\":true,\"x\":[6.8],\"xaxis\":\"x\",\"y\":[8.65],\"yaxis\":\"y\",\"type\":\"scatter\"},{\"hovertemplate\":\"country=Mauritania<br>child_mort=%{x}<br>health=%{y}<extra></extra>\",\"legendgroup\":\"Mauritania\",\"marker\":{\"color\":\"#FECB52\",\"symbol\":\"circle\"},\"mode\":\"markers\",\"name\":\"Mauritania\",\"orientation\":\"v\",\"showlegend\":true,\"x\":[97.4],\"xaxis\":\"x\",\"y\":[4.41],\"yaxis\":\"y\",\"type\":\"scatter\"},{\"hovertemplate\":\"country=Mauritius<br>child_mort=%{x}<br>health=%{y}<extra></extra>\",\"legendgroup\":\"Mauritius\",\"marker\":{\"color\":\"#636efa\",\"symbol\":\"circle\"},\"mode\":\"markers\",\"name\":\"Mauritius\",\"orientation\":\"v\",\"showlegend\":true,\"x\":[15.0],\"xaxis\":\"x\",\"y\":[6.0],\"yaxis\":\"y\",\"type\":\"scatter\"},{\"hovertemplate\":\"country=Micronesia, Fed. Sts.<br>child_mort=%{x}<br>health=%{y}<extra></extra>\",\"legendgroup\":\"Micronesia, Fed. Sts.\",\"marker\":{\"color\":\"#EF553B\",\"symbol\":\"circle\"},\"mode\":\"markers\",\"name\":\"Micronesia, Fed. Sts.\",\"orientation\":\"v\",\"showlegend\":true,\"x\":[40.0],\"xaxis\":\"x\",\"y\":[14.2],\"yaxis\":\"y\",\"type\":\"scatter\"},{\"hovertemplate\":\"country=Moldova<br>child_mort=%{x}<br>health=%{y}<extra></extra>\",\"legendgroup\":\"Moldova\",\"marker\":{\"color\":\"#00cc96\",\"symbol\":\"circle\"},\"mode\":\"markers\",\"name\":\"Moldova\",\"orientation\":\"v\",\"showlegend\":true,\"x\":[17.2],\"xaxis\":\"x\",\"y\":[11.7],\"yaxis\":\"y\",\"type\":\"scatter\"},{\"hovertemplate\":\"country=Mongolia<br>child_mort=%{x}<br>health=%{y}<extra></extra>\",\"legendgroup\":\"Mongolia\",\"marker\":{\"color\":\"#ab63fa\",\"symbol\":\"circle\"},\"mode\":\"markers\",\"name\":\"Mongolia\",\"orientation\":\"v\",\"showlegend\":true,\"x\":[26.1],\"xaxis\":\"x\",\"y\":[5.44],\"yaxis\":\"y\",\"type\":\"scatter\"},{\"hovertemplate\":\"country=Montenegro<br>child_mort=%{x}<br>health=%{y}<extra></extra>\",\"legendgroup\":\"Montenegro\",\"marker\":{\"color\":\"#FFA15A\",\"symbol\":\"circle\"},\"mode\":\"markers\",\"name\":\"Montenegro\",\"orientation\":\"v\",\"showlegend\":true,\"x\":[6.8],\"xaxis\":\"x\",\"y\":[9.11],\"yaxis\":\"y\",\"type\":\"scatter\"},{\"hovertemplate\":\"country=Morocco<br>child_mort=%{x}<br>health=%{y}<extra></extra>\",\"legendgroup\":\"Morocco\",\"marker\":{\"color\":\"#19d3f3\",\"symbol\":\"circle\"},\"mode\":\"markers\",\"name\":\"Morocco\",\"orientation\":\"v\",\"showlegend\":true,\"x\":[33.5],\"xaxis\":\"x\",\"y\":[5.2],\"yaxis\":\"y\",\"type\":\"scatter\"},{\"hovertemplate\":\"country=Mozambique<br>child_mort=%{x}<br>health=%{y}<extra></extra>\",\"legendgroup\":\"Mozambique\",\"marker\":{\"color\":\"#FF6692\",\"symbol\":\"circle\"},\"mode\":\"markers\",\"name\":\"Mozambique\",\"orientation\":\"v\",\"showlegend\":true,\"x\":[101.0],\"xaxis\":\"x\",\"y\":[5.21],\"yaxis\":\"y\",\"type\":\"scatter\"},{\"hovertemplate\":\"country=Myanmar<br>child_mort=%{x}<br>health=%{y}<extra></extra>\",\"legendgroup\":\"Myanmar\",\"marker\":{\"color\":\"#B6E880\",\"symbol\":\"circle\"},\"mode\":\"markers\",\"name\":\"Myanmar\",\"orientation\":\"v\",\"showlegend\":true,\"x\":[64.4],\"xaxis\":\"x\",\"y\":[1.97],\"yaxis\":\"y\",\"type\":\"scatter\"},{\"hovertemplate\":\"country=Namibia<br>child_mort=%{x}<br>health=%{y}<extra></extra>\",\"legendgroup\":\"Namibia\",\"marker\":{\"color\":\"#FF97FF\",\"symbol\":\"circle\"},\"mode\":\"markers\",\"name\":\"Namibia\",\"orientation\":\"v\",\"showlegend\":true,\"x\":[56.0],\"xaxis\":\"x\",\"y\":[6.78],\"yaxis\":\"y\",\"type\":\"scatter\"},{\"hovertemplate\":\"country=Nepal<br>child_mort=%{x}<br>health=%{y}<extra></extra>\",\"legendgroup\":\"Nepal\",\"marker\":{\"color\":\"#FECB52\",\"symbol\":\"circle\"},\"mode\":\"markers\",\"name\":\"Nepal\",\"orientation\":\"v\",\"showlegend\":true,\"x\":[47.0],\"xaxis\":\"x\",\"y\":[5.25],\"yaxis\":\"y\",\"type\":\"scatter\"},{\"hovertemplate\":\"country=Netherlands<br>child_mort=%{x}<br>health=%{y}<extra></extra>\",\"legendgroup\":\"Netherlands\",\"marker\":{\"color\":\"#636efa\",\"symbol\":\"circle\"},\"mode\":\"markers\",\"name\":\"Netherlands\",\"orientation\":\"v\",\"showlegend\":true,\"x\":[4.5],\"xaxis\":\"x\",\"y\":[11.9],\"yaxis\":\"y\",\"type\":\"scatter\"},{\"hovertemplate\":\"country=New Zealand<br>child_mort=%{x}<br>health=%{y}<extra></extra>\",\"legendgroup\":\"New Zealand\",\"marker\":{\"color\":\"#EF553B\",\"symbol\":\"circle\"},\"mode\":\"markers\",\"name\":\"New Zealand\",\"orientation\":\"v\",\"showlegend\":true,\"x\":[6.2],\"xaxis\":\"x\",\"y\":[10.1],\"yaxis\":\"y\",\"type\":\"scatter\"},{\"hovertemplate\":\"country=Niger<br>child_mort=%{x}<br>health=%{y}<extra></extra>\",\"legendgroup\":\"Niger\",\"marker\":{\"color\":\"#00cc96\",\"symbol\":\"circle\"},\"mode\":\"markers\",\"name\":\"Niger\",\"orientation\":\"v\",\"showlegend\":true,\"x\":[123.0],\"xaxis\":\"x\",\"y\":[5.16],\"yaxis\":\"y\",\"type\":\"scatter\"},{\"hovertemplate\":\"country=Nigeria<br>child_mort=%{x}<br>health=%{y}<extra></extra>\",\"legendgroup\":\"Nigeria\",\"marker\":{\"color\":\"#ab63fa\",\"symbol\":\"circle\"},\"mode\":\"markers\",\"name\":\"Nigeria\",\"orientation\":\"v\",\"showlegend\":true,\"x\":[130.0],\"xaxis\":\"x\",\"y\":[5.07],\"yaxis\":\"y\",\"type\":\"scatter\"},{\"hovertemplate\":\"country=Norway<br>child_mort=%{x}<br>health=%{y}<extra></extra>\",\"legendgroup\":\"Norway\",\"marker\":{\"color\":\"#FFA15A\",\"symbol\":\"circle\"},\"mode\":\"markers\",\"name\":\"Norway\",\"orientation\":\"v\",\"showlegend\":true,\"x\":[3.2],\"xaxis\":\"x\",\"y\":[9.48],\"yaxis\":\"y\",\"type\":\"scatter\"},{\"hovertemplate\":\"country=Oman<br>child_mort=%{x}<br>health=%{y}<extra></extra>\",\"legendgroup\":\"Oman\",\"marker\":{\"color\":\"#19d3f3\",\"symbol\":\"circle\"},\"mode\":\"markers\",\"name\":\"Oman\",\"orientation\":\"v\",\"showlegend\":true,\"x\":[11.7],\"xaxis\":\"x\",\"y\":[2.77],\"yaxis\":\"y\",\"type\":\"scatter\"},{\"hovertemplate\":\"country=Pakistan<br>child_mort=%{x}<br>health=%{y}<extra></extra>\",\"legendgroup\":\"Pakistan\",\"marker\":{\"color\":\"#FF6692\",\"symbol\":\"circle\"},\"mode\":\"markers\",\"name\":\"Pakistan\",\"orientation\":\"v\",\"showlegend\":true,\"x\":[92.1],\"xaxis\":\"x\",\"y\":[2.2],\"yaxis\":\"y\",\"type\":\"scatter\"},{\"hovertemplate\":\"country=Panama<br>child_mort=%{x}<br>health=%{y}<extra></extra>\",\"legendgroup\":\"Panama\",\"marker\":{\"color\":\"#B6E880\",\"symbol\":\"circle\"},\"mode\":\"markers\",\"name\":\"Panama\",\"orientation\":\"v\",\"showlegend\":true,\"x\":[19.7],\"xaxis\":\"x\",\"y\":[8.1],\"yaxis\":\"y\",\"type\":\"scatter\"},{\"hovertemplate\":\"country=Paraguay<br>child_mort=%{x}<br>health=%{y}<extra></extra>\",\"legendgroup\":\"Paraguay\",\"marker\":{\"color\":\"#FF97FF\",\"symbol\":\"circle\"},\"mode\":\"markers\",\"name\":\"Paraguay\",\"orientation\":\"v\",\"showlegend\":true,\"x\":[24.1],\"xaxis\":\"x\",\"y\":[5.87],\"yaxis\":\"y\",\"type\":\"scatter\"},{\"hovertemplate\":\"country=Peru<br>child_mort=%{x}<br>health=%{y}<extra></extra>\",\"legendgroup\":\"Peru\",\"marker\":{\"color\":\"#FECB52\",\"symbol\":\"circle\"},\"mode\":\"markers\",\"name\":\"Peru\",\"orientation\":\"v\",\"showlegend\":true,\"x\":[20.3],\"xaxis\":\"x\",\"y\":[5.08],\"yaxis\":\"y\",\"type\":\"scatter\"},{\"hovertemplate\":\"country=Philippines<br>child_mort=%{x}<br>health=%{y}<extra></extra>\",\"legendgroup\":\"Philippines\",\"marker\":{\"color\":\"#636efa\",\"symbol\":\"circle\"},\"mode\":\"markers\",\"name\":\"Philippines\",\"orientation\":\"v\",\"showlegend\":true,\"x\":[31.9],\"xaxis\":\"x\",\"y\":[3.61],\"yaxis\":\"y\",\"type\":\"scatter\"},{\"hovertemplate\":\"country=Poland<br>child_mort=%{x}<br>health=%{y}<extra></extra>\",\"legendgroup\":\"Poland\",\"marker\":{\"color\":\"#EF553B\",\"symbol\":\"circle\"},\"mode\":\"markers\",\"name\":\"Poland\",\"orientation\":\"v\",\"showlegend\":true,\"x\":[6.0],\"xaxis\":\"x\",\"y\":[7.46],\"yaxis\":\"y\",\"type\":\"scatter\"},{\"hovertemplate\":\"country=Portugal<br>child_mort=%{x}<br>health=%{y}<extra></extra>\",\"legendgroup\":\"Portugal\",\"marker\":{\"color\":\"#00cc96\",\"symbol\":\"circle\"},\"mode\":\"markers\",\"name\":\"Portugal\",\"orientation\":\"v\",\"showlegend\":true,\"x\":[3.9],\"xaxis\":\"x\",\"y\":[11.0],\"yaxis\":\"y\",\"type\":\"scatter\"},{\"hovertemplate\":\"country=Qatar<br>child_mort=%{x}<br>health=%{y}<extra></extra>\",\"legendgroup\":\"Qatar\",\"marker\":{\"color\":\"#ab63fa\",\"symbol\":\"circle\"},\"mode\":\"markers\",\"name\":\"Qatar\",\"orientation\":\"v\",\"showlegend\":true,\"x\":[9.0],\"xaxis\":\"x\",\"y\":[1.81],\"yaxis\":\"y\",\"type\":\"scatter\"},{\"hovertemplate\":\"country=Romania<br>child_mort=%{x}<br>health=%{y}<extra></extra>\",\"legendgroup\":\"Romania\",\"marker\":{\"color\":\"#FFA15A\",\"symbol\":\"circle\"},\"mode\":\"markers\",\"name\":\"Romania\",\"orientation\":\"v\",\"showlegend\":true,\"x\":[11.5],\"xaxis\":\"x\",\"y\":[5.58],\"yaxis\":\"y\",\"type\":\"scatter\"},{\"hovertemplate\":\"country=Russia<br>child_mort=%{x}<br>health=%{y}<extra></extra>\",\"legendgroup\":\"Russia\",\"marker\":{\"color\":\"#19d3f3\",\"symbol\":\"circle\"},\"mode\":\"markers\",\"name\":\"Russia\",\"orientation\":\"v\",\"showlegend\":true,\"x\":[10.0],\"xaxis\":\"x\",\"y\":[5.08],\"yaxis\":\"y\",\"type\":\"scatter\"},{\"hovertemplate\":\"country=Rwanda<br>child_mort=%{x}<br>health=%{y}<extra></extra>\",\"legendgroup\":\"Rwanda\",\"marker\":{\"color\":\"#FF6692\",\"symbol\":\"circle\"},\"mode\":\"markers\",\"name\":\"Rwanda\",\"orientation\":\"v\",\"showlegend\":true,\"x\":[63.6],\"xaxis\":\"x\",\"y\":[10.5],\"yaxis\":\"y\",\"type\":\"scatter\"},{\"hovertemplate\":\"country=Samoa<br>child_mort=%{x}<br>health=%{y}<extra></extra>\",\"legendgroup\":\"Samoa\",\"marker\":{\"color\":\"#B6E880\",\"symbol\":\"circle\"},\"mode\":\"markers\",\"name\":\"Samoa\",\"orientation\":\"v\",\"showlegend\":true,\"x\":[18.9],\"xaxis\":\"x\",\"y\":[6.47],\"yaxis\":\"y\",\"type\":\"scatter\"},{\"hovertemplate\":\"country=Saudi Arabia<br>child_mort=%{x}<br>health=%{y}<extra></extra>\",\"legendgroup\":\"Saudi Arabia\",\"marker\":{\"color\":\"#FF97FF\",\"symbol\":\"circle\"},\"mode\":\"markers\",\"name\":\"Saudi Arabia\",\"orientation\":\"v\",\"showlegend\":true,\"x\":[15.7],\"xaxis\":\"x\",\"y\":[4.29],\"yaxis\":\"y\",\"type\":\"scatter\"},{\"hovertemplate\":\"country=Senegal<br>child_mort=%{x}<br>health=%{y}<extra></extra>\",\"legendgroup\":\"Senegal\",\"marker\":{\"color\":\"#FECB52\",\"symbol\":\"circle\"},\"mode\":\"markers\",\"name\":\"Senegal\",\"orientation\":\"v\",\"showlegend\":true,\"x\":[66.8],\"xaxis\":\"x\",\"y\":[5.66],\"yaxis\":\"y\",\"type\":\"scatter\"},{\"hovertemplate\":\"country=Serbia<br>child_mort=%{x}<br>health=%{y}<extra></extra>\",\"legendgroup\":\"Serbia\",\"marker\":{\"color\":\"#636efa\",\"symbol\":\"circle\"},\"mode\":\"markers\",\"name\":\"Serbia\",\"orientation\":\"v\",\"showlegend\":true,\"x\":[7.6],\"xaxis\":\"x\",\"y\":[10.4],\"yaxis\":\"y\",\"type\":\"scatter\"},{\"hovertemplate\":\"country=Seychelles<br>child_mort=%{x}<br>health=%{y}<extra></extra>\",\"legendgroup\":\"Seychelles\",\"marker\":{\"color\":\"#EF553B\",\"symbol\":\"circle\"},\"mode\":\"markers\",\"name\":\"Seychelles\",\"orientation\":\"v\",\"showlegend\":true,\"x\":[14.4],\"xaxis\":\"x\",\"y\":[3.4],\"yaxis\":\"y\",\"type\":\"scatter\"},{\"hovertemplate\":\"country=Sierra Leone<br>child_mort=%{x}<br>health=%{y}<extra></extra>\",\"legendgroup\":\"Sierra Leone\",\"marker\":{\"color\":\"#00cc96\",\"symbol\":\"circle\"},\"mode\":\"markers\",\"name\":\"Sierra Leone\",\"orientation\":\"v\",\"showlegend\":true,\"x\":[160.0],\"xaxis\":\"x\",\"y\":[13.1],\"yaxis\":\"y\",\"type\":\"scatter\"},{\"hovertemplate\":\"country=Singapore<br>child_mort=%{x}<br>health=%{y}<extra></extra>\",\"legendgroup\":\"Singapore\",\"marker\":{\"color\":\"#ab63fa\",\"symbol\":\"circle\"},\"mode\":\"markers\",\"name\":\"Singapore\",\"orientation\":\"v\",\"showlegend\":true,\"x\":[2.8],\"xaxis\":\"x\",\"y\":[3.96],\"yaxis\":\"y\",\"type\":\"scatter\"},{\"hovertemplate\":\"country=Slovak Republic<br>child_mort=%{x}<br>health=%{y}<extra></extra>\",\"legendgroup\":\"Slovak Republic\",\"marker\":{\"color\":\"#FFA15A\",\"symbol\":\"circle\"},\"mode\":\"markers\",\"name\":\"Slovak Republic\",\"orientation\":\"v\",\"showlegend\":true,\"x\":[7.0],\"xaxis\":\"x\",\"y\":[8.79],\"yaxis\":\"y\",\"type\":\"scatter\"},{\"hovertemplate\":\"country=Slovenia<br>child_mort=%{x}<br>health=%{y}<extra></extra>\",\"legendgroup\":\"Slovenia\",\"marker\":{\"color\":\"#19d3f3\",\"symbol\":\"circle\"},\"mode\":\"markers\",\"name\":\"Slovenia\",\"orientation\":\"v\",\"showlegend\":true,\"x\":[3.2],\"xaxis\":\"x\",\"y\":[9.41],\"yaxis\":\"y\",\"type\":\"scatter\"},{\"hovertemplate\":\"country=Solomon Islands<br>child_mort=%{x}<br>health=%{y}<extra></extra>\",\"legendgroup\":\"Solomon Islands\",\"marker\":{\"color\":\"#FF6692\",\"symbol\":\"circle\"},\"mode\":\"markers\",\"name\":\"Solomon Islands\",\"orientation\":\"v\",\"showlegend\":true,\"x\":[28.1],\"xaxis\":\"x\",\"y\":[8.55],\"yaxis\":\"y\",\"type\":\"scatter\"},{\"hovertemplate\":\"country=South Africa<br>child_mort=%{x}<br>health=%{y}<extra></extra>\",\"legendgroup\":\"South Africa\",\"marker\":{\"color\":\"#B6E880\",\"symbol\":\"circle\"},\"mode\":\"markers\",\"name\":\"South Africa\",\"orientation\":\"v\",\"showlegend\":true,\"x\":[53.7],\"xaxis\":\"x\",\"y\":[8.94],\"yaxis\":\"y\",\"type\":\"scatter\"},{\"hovertemplate\":\"country=South Korea<br>child_mort=%{x}<br>health=%{y}<extra></extra>\",\"legendgroup\":\"South Korea\",\"marker\":{\"color\":\"#FF97FF\",\"symbol\":\"circle\"},\"mode\":\"markers\",\"name\":\"South Korea\",\"orientation\":\"v\",\"showlegend\":true,\"x\":[4.1],\"xaxis\":\"x\",\"y\":[6.93],\"yaxis\":\"y\",\"type\":\"scatter\"},{\"hovertemplate\":\"country=Spain<br>child_mort=%{x}<br>health=%{y}<extra></extra>\",\"legendgroup\":\"Spain\",\"marker\":{\"color\":\"#FECB52\",\"symbol\":\"circle\"},\"mode\":\"markers\",\"name\":\"Spain\",\"orientation\":\"v\",\"showlegend\":true,\"x\":[3.8],\"xaxis\":\"x\",\"y\":[9.54],\"yaxis\":\"y\",\"type\":\"scatter\"},{\"hovertemplate\":\"country=Sri Lanka<br>child_mort=%{x}<br>health=%{y}<extra></extra>\",\"legendgroup\":\"Sri Lanka\",\"marker\":{\"color\":\"#636efa\",\"symbol\":\"circle\"},\"mode\":\"markers\",\"name\":\"Sri Lanka\",\"orientation\":\"v\",\"showlegend\":true,\"x\":[11.2],\"xaxis\":\"x\",\"y\":[2.94],\"yaxis\":\"y\",\"type\":\"scatter\"},{\"hovertemplate\":\"country=St. Vincent and the Grenadines<br>child_mort=%{x}<br>health=%{y}<extra></extra>\",\"legendgroup\":\"St. Vincent and the Grenadines\",\"marker\":{\"color\":\"#EF553B\",\"symbol\":\"circle\"},\"mode\":\"markers\",\"name\":\"St. Vincent and the Grenadines\",\"orientation\":\"v\",\"showlegend\":true,\"x\":[20.7],\"xaxis\":\"x\",\"y\":[4.47],\"yaxis\":\"y\",\"type\":\"scatter\"},{\"hovertemplate\":\"country=Sudan<br>child_mort=%{x}<br>health=%{y}<extra></extra>\",\"legendgroup\":\"Sudan\",\"marker\":{\"color\":\"#00cc96\",\"symbol\":\"circle\"},\"mode\":\"markers\",\"name\":\"Sudan\",\"orientation\":\"v\",\"showlegend\":true,\"x\":[76.7],\"xaxis\":\"x\",\"y\":[6.32],\"yaxis\":\"y\",\"type\":\"scatter\"},{\"hovertemplate\":\"country=Suriname<br>child_mort=%{x}<br>health=%{y}<extra></extra>\",\"legendgroup\":\"Suriname\",\"marker\":{\"color\":\"#ab63fa\",\"symbol\":\"circle\"},\"mode\":\"markers\",\"name\":\"Suriname\",\"orientation\":\"v\",\"showlegend\":true,\"x\":[24.1],\"xaxis\":\"x\",\"y\":[7.01],\"yaxis\":\"y\",\"type\":\"scatter\"},{\"hovertemplate\":\"country=Sweden<br>child_mort=%{x}<br>health=%{y}<extra></extra>\",\"legendgroup\":\"Sweden\",\"marker\":{\"color\":\"#FFA15A\",\"symbol\":\"circle\"},\"mode\":\"markers\",\"name\":\"Sweden\",\"orientation\":\"v\",\"showlegend\":true,\"x\":[3.0],\"xaxis\":\"x\",\"y\":[9.63],\"yaxis\":\"y\",\"type\":\"scatter\"},{\"hovertemplate\":\"country=Switzerland<br>child_mort=%{x}<br>health=%{y}<extra></extra>\",\"legendgroup\":\"Switzerland\",\"marker\":{\"color\":\"#19d3f3\",\"symbol\":\"circle\"},\"mode\":\"markers\",\"name\":\"Switzerland\",\"orientation\":\"v\",\"showlegend\":true,\"x\":[4.5],\"xaxis\":\"x\",\"y\":[11.5],\"yaxis\":\"y\",\"type\":\"scatter\"},{\"hovertemplate\":\"country=Tajikistan<br>child_mort=%{x}<br>health=%{y}<extra></extra>\",\"legendgroup\":\"Tajikistan\",\"marker\":{\"color\":\"#FF6692\",\"symbol\":\"circle\"},\"mode\":\"markers\",\"name\":\"Tajikistan\",\"orientation\":\"v\",\"showlegend\":true,\"x\":[52.4],\"xaxis\":\"x\",\"y\":[5.98],\"yaxis\":\"y\",\"type\":\"scatter\"},{\"hovertemplate\":\"country=Tanzania<br>child_mort=%{x}<br>health=%{y}<extra></extra>\",\"legendgroup\":\"Tanzania\",\"marker\":{\"color\":\"#B6E880\",\"symbol\":\"circle\"},\"mode\":\"markers\",\"name\":\"Tanzania\",\"orientation\":\"v\",\"showlegend\":true,\"x\":[71.9],\"xaxis\":\"x\",\"y\":[6.01],\"yaxis\":\"y\",\"type\":\"scatter\"},{\"hovertemplate\":\"country=Thailand<br>child_mort=%{x}<br>health=%{y}<extra></extra>\",\"legendgroup\":\"Thailand\",\"marker\":{\"color\":\"#FF97FF\",\"symbol\":\"circle\"},\"mode\":\"markers\",\"name\":\"Thailand\",\"orientation\":\"v\",\"showlegend\":true,\"x\":[14.9],\"xaxis\":\"x\",\"y\":[3.88],\"yaxis\":\"y\",\"type\":\"scatter\"},{\"hovertemplate\":\"country=Timor-Leste<br>child_mort=%{x}<br>health=%{y}<extra></extra>\",\"legendgroup\":\"Timor-Leste\",\"marker\":{\"color\":\"#FECB52\",\"symbol\":\"circle\"},\"mode\":\"markers\",\"name\":\"Timor-Leste\",\"orientation\":\"v\",\"showlegend\":true,\"x\":[62.6],\"xaxis\":\"x\",\"y\":[9.12],\"yaxis\":\"y\",\"type\":\"scatter\"},{\"hovertemplate\":\"country=Togo<br>child_mort=%{x}<br>health=%{y}<extra></extra>\",\"legendgroup\":\"Togo\",\"marker\":{\"color\":\"#636efa\",\"symbol\":\"circle\"},\"mode\":\"markers\",\"name\":\"Togo\",\"orientation\":\"v\",\"showlegend\":true,\"x\":[90.3],\"xaxis\":\"x\",\"y\":[7.65],\"yaxis\":\"y\",\"type\":\"scatter\"},{\"hovertemplate\":\"country=Tonga<br>child_mort=%{x}<br>health=%{y}<extra></extra>\",\"legendgroup\":\"Tonga\",\"marker\":{\"color\":\"#EF553B\",\"symbol\":\"circle\"},\"mode\":\"markers\",\"name\":\"Tonga\",\"orientation\":\"v\",\"showlegend\":true,\"x\":[17.4],\"xaxis\":\"x\",\"y\":[5.07],\"yaxis\":\"y\",\"type\":\"scatter\"},{\"hovertemplate\":\"country=Tunisia<br>child_mort=%{x}<br>health=%{y}<extra></extra>\",\"legendgroup\":\"Tunisia\",\"marker\":{\"color\":\"#00cc96\",\"symbol\":\"circle\"},\"mode\":\"markers\",\"name\":\"Tunisia\",\"orientation\":\"v\",\"showlegend\":true,\"x\":[17.4],\"xaxis\":\"x\",\"y\":[6.21],\"yaxis\":\"y\",\"type\":\"scatter\"},{\"hovertemplate\":\"country=Turkey<br>child_mort=%{x}<br>health=%{y}<extra></extra>\",\"legendgroup\":\"Turkey\",\"marker\":{\"color\":\"#ab63fa\",\"symbol\":\"circle\"},\"mode\":\"markers\",\"name\":\"Turkey\",\"orientation\":\"v\",\"showlegend\":true,\"x\":[19.1],\"xaxis\":\"x\",\"y\":[6.74],\"yaxis\":\"y\",\"type\":\"scatter\"},{\"hovertemplate\":\"country=Turkmenistan<br>child_mort=%{x}<br>health=%{y}<extra></extra>\",\"legendgroup\":\"Turkmenistan\",\"marker\":{\"color\":\"#FFA15A\",\"symbol\":\"circle\"},\"mode\":\"markers\",\"name\":\"Turkmenistan\",\"orientation\":\"v\",\"showlegend\":true,\"x\":[62.0],\"xaxis\":\"x\",\"y\":[2.5],\"yaxis\":\"y\",\"type\":\"scatter\"},{\"hovertemplate\":\"country=Uganda<br>child_mort=%{x}<br>health=%{y}<extra></extra>\",\"legendgroup\":\"Uganda\",\"marker\":{\"color\":\"#19d3f3\",\"symbol\":\"circle\"},\"mode\":\"markers\",\"name\":\"Uganda\",\"orientation\":\"v\",\"showlegend\":true,\"x\":[81.0],\"xaxis\":\"x\",\"y\":[9.01],\"yaxis\":\"y\",\"type\":\"scatter\"},{\"hovertemplate\":\"country=Ukraine<br>child_mort=%{x}<br>health=%{y}<extra></extra>\",\"legendgroup\":\"Ukraine\",\"marker\":{\"color\":\"#FF6692\",\"symbol\":\"circle\"},\"mode\":\"markers\",\"name\":\"Ukraine\",\"orientation\":\"v\",\"showlegend\":true,\"x\":[11.7],\"xaxis\":\"x\",\"y\":[7.72],\"yaxis\":\"y\",\"type\":\"scatter\"},{\"hovertemplate\":\"country=United Arab Emirates<br>child_mort=%{x}<br>health=%{y}<extra></extra>\",\"legendgroup\":\"United Arab Emirates\",\"marker\":{\"color\":\"#B6E880\",\"symbol\":\"circle\"},\"mode\":\"markers\",\"name\":\"United Arab Emirates\",\"orientation\":\"v\",\"showlegend\":true,\"x\":[8.6],\"xaxis\":\"x\",\"y\":[3.66],\"yaxis\":\"y\",\"type\":\"scatter\"},{\"hovertemplate\":\"country=United Kingdom<br>child_mort=%{x}<br>health=%{y}<extra></extra>\",\"legendgroup\":\"United Kingdom\",\"marker\":{\"color\":\"#FF97FF\",\"symbol\":\"circle\"},\"mode\":\"markers\",\"name\":\"United Kingdom\",\"orientation\":\"v\",\"showlegend\":true,\"x\":[5.2],\"xaxis\":\"x\",\"y\":[9.64],\"yaxis\":\"y\",\"type\":\"scatter\"},{\"hovertemplate\":\"country=United States<br>child_mort=%{x}<br>health=%{y}<extra></extra>\",\"legendgroup\":\"United States\",\"marker\":{\"color\":\"#FECB52\",\"symbol\":\"circle\"},\"mode\":\"markers\",\"name\":\"United States\",\"orientation\":\"v\",\"showlegend\":true,\"x\":[7.3],\"xaxis\":\"x\",\"y\":[17.9],\"yaxis\":\"y\",\"type\":\"scatter\"},{\"hovertemplate\":\"country=Uruguay<br>child_mort=%{x}<br>health=%{y}<extra></extra>\",\"legendgroup\":\"Uruguay\",\"marker\":{\"color\":\"#636efa\",\"symbol\":\"circle\"},\"mode\":\"markers\",\"name\":\"Uruguay\",\"orientation\":\"v\",\"showlegend\":true,\"x\":[10.6],\"xaxis\":\"x\",\"y\":[8.35],\"yaxis\":\"y\",\"type\":\"scatter\"},{\"hovertemplate\":\"country=Uzbekistan<br>child_mort=%{x}<br>health=%{y}<extra></extra>\",\"legendgroup\":\"Uzbekistan\",\"marker\":{\"color\":\"#EF553B\",\"symbol\":\"circle\"},\"mode\":\"markers\",\"name\":\"Uzbekistan\",\"orientation\":\"v\",\"showlegend\":true,\"x\":[36.3],\"xaxis\":\"x\",\"y\":[5.81],\"yaxis\":\"y\",\"type\":\"scatter\"},{\"hovertemplate\":\"country=Vanuatu<br>child_mort=%{x}<br>health=%{y}<extra></extra>\",\"legendgroup\":\"Vanuatu\",\"marker\":{\"color\":\"#00cc96\",\"symbol\":\"circle\"},\"mode\":\"markers\",\"name\":\"Vanuatu\",\"orientation\":\"v\",\"showlegend\":true,\"x\":[29.2],\"xaxis\":\"x\",\"y\":[5.25],\"yaxis\":\"y\",\"type\":\"scatter\"},{\"hovertemplate\":\"country=Venezuela<br>child_mort=%{x}<br>health=%{y}<extra></extra>\",\"legendgroup\":\"Venezuela\",\"marker\":{\"color\":\"#ab63fa\",\"symbol\":\"circle\"},\"mode\":\"markers\",\"name\":\"Venezuela\",\"orientation\":\"v\",\"showlegend\":true,\"x\":[17.1],\"xaxis\":\"x\",\"y\":[4.91],\"yaxis\":\"y\",\"type\":\"scatter\"},{\"hovertemplate\":\"country=Vietnam<br>child_mort=%{x}<br>health=%{y}<extra></extra>\",\"legendgroup\":\"Vietnam\",\"marker\":{\"color\":\"#FFA15A\",\"symbol\":\"circle\"},\"mode\":\"markers\",\"name\":\"Vietnam\",\"orientation\":\"v\",\"showlegend\":true,\"x\":[23.3],\"xaxis\":\"x\",\"y\":[6.84],\"yaxis\":\"y\",\"type\":\"scatter\"},{\"hovertemplate\":\"country=Yemen<br>child_mort=%{x}<br>health=%{y}<extra></extra>\",\"legendgroup\":\"Yemen\",\"marker\":{\"color\":\"#19d3f3\",\"symbol\":\"circle\"},\"mode\":\"markers\",\"name\":\"Yemen\",\"orientation\":\"v\",\"showlegend\":true,\"x\":[56.3],\"xaxis\":\"x\",\"y\":[5.18],\"yaxis\":\"y\",\"type\":\"scatter\"},{\"hovertemplate\":\"country=Zambia<br>child_mort=%{x}<br>health=%{y}<extra></extra>\",\"legendgroup\":\"Zambia\",\"marker\":{\"color\":\"#FF6692\",\"symbol\":\"circle\"},\"mode\":\"markers\",\"name\":\"Zambia\",\"orientation\":\"v\",\"showlegend\":true,\"x\":[83.1],\"xaxis\":\"x\",\"y\":[5.89],\"yaxis\":\"y\",\"type\":\"scatter\"}],                        {\"template\":{\"data\":{\"bar\":[{\"error_x\":{\"color\":\"#2a3f5f\"},\"error_y\":{\"color\":\"#2a3f5f\"},\"marker\":{\"line\":{\"color\":\"#E5ECF6\",\"width\":0.5},\"pattern\":{\"fillmode\":\"overlay\",\"size\":10,\"solidity\":0.2}},\"type\":\"bar\"}],\"barpolar\":[{\"marker\":{\"line\":{\"color\":\"#E5ECF6\",\"width\":0.5},\"pattern\":{\"fillmode\":\"overlay\",\"size\":10,\"solidity\":0.2}},\"type\":\"barpolar\"}],\"carpet\":[{\"aaxis\":{\"endlinecolor\":\"#2a3f5f\",\"gridcolor\":\"white\",\"linecolor\":\"white\",\"minorgridcolor\":\"white\",\"startlinecolor\":\"#2a3f5f\"},\"baxis\":{\"endlinecolor\":\"#2a3f5f\",\"gridcolor\":\"white\",\"linecolor\":\"white\",\"minorgridcolor\":\"white\",\"startlinecolor\":\"#2a3f5f\"},\"type\":\"carpet\"}],\"choropleth\":[{\"colorbar\":{\"outlinewidth\":0,\"ticks\":\"\"},\"type\":\"choropleth\"}],\"contour\":[{\"colorbar\":{\"outlinewidth\":0,\"ticks\":\"\"},\"colorscale\":[[0.0,\"#0d0887\"],[0.1111111111111111,\"#46039f\"],[0.2222222222222222,\"#7201a8\"],[0.3333333333333333,\"#9c179e\"],[0.4444444444444444,\"#bd3786\"],[0.5555555555555556,\"#d8576b\"],[0.6666666666666666,\"#ed7953\"],[0.7777777777777778,\"#fb9f3a\"],[0.8888888888888888,\"#fdca26\"],[1.0,\"#f0f921\"]],\"type\":\"contour\"}],\"contourcarpet\":[{\"colorbar\":{\"outlinewidth\":0,\"ticks\":\"\"},\"type\":\"contourcarpet\"}],\"heatmap\":[{\"colorbar\":{\"outlinewidth\":0,\"ticks\":\"\"},\"colorscale\":[[0.0,\"#0d0887\"],[0.1111111111111111,\"#46039f\"],[0.2222222222222222,\"#7201a8\"],[0.3333333333333333,\"#9c179e\"],[0.4444444444444444,\"#bd3786\"],[0.5555555555555556,\"#d8576b\"],[0.6666666666666666,\"#ed7953\"],[0.7777777777777778,\"#fb9f3a\"],[0.8888888888888888,\"#fdca26\"],[1.0,\"#f0f921\"]],\"type\":\"heatmap\"}],\"heatmapgl\":[{\"colorbar\":{\"outlinewidth\":0,\"ticks\":\"\"},\"colorscale\":[[0.0,\"#0d0887\"],[0.1111111111111111,\"#46039f\"],[0.2222222222222222,\"#7201a8\"],[0.3333333333333333,\"#9c179e\"],[0.4444444444444444,\"#bd3786\"],[0.5555555555555556,\"#d8576b\"],[0.6666666666666666,\"#ed7953\"],[0.7777777777777778,\"#fb9f3a\"],[0.8888888888888888,\"#fdca26\"],[1.0,\"#f0f921\"]],\"type\":\"heatmapgl\"}],\"histogram\":[{\"marker\":{\"pattern\":{\"fillmode\":\"overlay\",\"size\":10,\"solidity\":0.2}},\"type\":\"histogram\"}],\"histogram2d\":[{\"colorbar\":{\"outlinewidth\":0,\"ticks\":\"\"},\"colorscale\":[[0.0,\"#0d0887\"],[0.1111111111111111,\"#46039f\"],[0.2222222222222222,\"#7201a8\"],[0.3333333333333333,\"#9c179e\"],[0.4444444444444444,\"#bd3786\"],[0.5555555555555556,\"#d8576b\"],[0.6666666666666666,\"#ed7953\"],[0.7777777777777778,\"#fb9f3a\"],[0.8888888888888888,\"#fdca26\"],[1.0,\"#f0f921\"]],\"type\":\"histogram2d\"}],\"histogram2dcontour\":[{\"colorbar\":{\"outlinewidth\":0,\"ticks\":\"\"},\"colorscale\":[[0.0,\"#0d0887\"],[0.1111111111111111,\"#46039f\"],[0.2222222222222222,\"#7201a8\"],[0.3333333333333333,\"#9c179e\"],[0.4444444444444444,\"#bd3786\"],[0.5555555555555556,\"#d8576b\"],[0.6666666666666666,\"#ed7953\"],[0.7777777777777778,\"#fb9f3a\"],[0.8888888888888888,\"#fdca26\"],[1.0,\"#f0f921\"]],\"type\":\"histogram2dcontour\"}],\"mesh3d\":[{\"colorbar\":{\"outlinewidth\":0,\"ticks\":\"\"},\"type\":\"mesh3d\"}],\"parcoords\":[{\"line\":{\"colorbar\":{\"outlinewidth\":0,\"ticks\":\"\"}},\"type\":\"parcoords\"}],\"pie\":[{\"automargin\":true,\"type\":\"pie\"}],\"scatter\":[{\"marker\":{\"colorbar\":{\"outlinewidth\":0,\"ticks\":\"\"}},\"type\":\"scatter\"}],\"scatter3d\":[{\"line\":{\"colorbar\":{\"outlinewidth\":0,\"ticks\":\"\"}},\"marker\":{\"colorbar\":{\"outlinewidth\":0,\"ticks\":\"\"}},\"type\":\"scatter3d\"}],\"scattercarpet\":[{\"marker\":{\"colorbar\":{\"outlinewidth\":0,\"ticks\":\"\"}},\"type\":\"scattercarpet\"}],\"scattergeo\":[{\"marker\":{\"colorbar\":{\"outlinewidth\":0,\"ticks\":\"\"}},\"type\":\"scattergeo\"}],\"scattergl\":[{\"marker\":{\"colorbar\":{\"outlinewidth\":0,\"ticks\":\"\"}},\"type\":\"scattergl\"}],\"scattermapbox\":[{\"marker\":{\"colorbar\":{\"outlinewidth\":0,\"ticks\":\"\"}},\"type\":\"scattermapbox\"}],\"scatterpolar\":[{\"marker\":{\"colorbar\":{\"outlinewidth\":0,\"ticks\":\"\"}},\"type\":\"scatterpolar\"}],\"scatterpolargl\":[{\"marker\":{\"colorbar\":{\"outlinewidth\":0,\"ticks\":\"\"}},\"type\":\"scatterpolargl\"}],\"scatterternary\":[{\"marker\":{\"colorbar\":{\"outlinewidth\":0,\"ticks\":\"\"}},\"type\":\"scatterternary\"}],\"surface\":[{\"colorbar\":{\"outlinewidth\":0,\"ticks\":\"\"},\"colorscale\":[[0.0,\"#0d0887\"],[0.1111111111111111,\"#46039f\"],[0.2222222222222222,\"#7201a8\"],[0.3333333333333333,\"#9c179e\"],[0.4444444444444444,\"#bd3786\"],[0.5555555555555556,\"#d8576b\"],[0.6666666666666666,\"#ed7953\"],[0.7777777777777778,\"#fb9f3a\"],[0.8888888888888888,\"#fdca26\"],[1.0,\"#f0f921\"]],\"type\":\"surface\"}],\"table\":[{\"cells\":{\"fill\":{\"color\":\"#EBF0F8\"},\"line\":{\"color\":\"white\"}},\"header\":{\"fill\":{\"color\":\"#C8D4E3\"},\"line\":{\"color\":\"white\"}},\"type\":\"table\"}]},\"layout\":{\"annotationdefaults\":{\"arrowcolor\":\"#2a3f5f\",\"arrowhead\":0,\"arrowwidth\":1},\"autotypenumbers\":\"strict\",\"coloraxis\":{\"colorbar\":{\"outlinewidth\":0,\"ticks\":\"\"}},\"colorscale\":{\"diverging\":[[0,\"#8e0152\"],[0.1,\"#c51b7d\"],[0.2,\"#de77ae\"],[0.3,\"#f1b6da\"],[0.4,\"#fde0ef\"],[0.5,\"#f7f7f7\"],[0.6,\"#e6f5d0\"],[0.7,\"#b8e186\"],[0.8,\"#7fbc41\"],[0.9,\"#4d9221\"],[1,\"#276419\"]],\"sequential\":[[0.0,\"#0d0887\"],[0.1111111111111111,\"#46039f\"],[0.2222222222222222,\"#7201a8\"],[0.3333333333333333,\"#9c179e\"],[0.4444444444444444,\"#bd3786\"],[0.5555555555555556,\"#d8576b\"],[0.6666666666666666,\"#ed7953\"],[0.7777777777777778,\"#fb9f3a\"],[0.8888888888888888,\"#fdca26\"],[1.0,\"#f0f921\"]],\"sequentialminus\":[[0.0,\"#0d0887\"],[0.1111111111111111,\"#46039f\"],[0.2222222222222222,\"#7201a8\"],[0.3333333333333333,\"#9c179e\"],[0.4444444444444444,\"#bd3786\"],[0.5555555555555556,\"#d8576b\"],[0.6666666666666666,\"#ed7953\"],[0.7777777777777778,\"#fb9f3a\"],[0.8888888888888888,\"#fdca26\"],[1.0,\"#f0f921\"]]},\"colorway\":[\"#636efa\",\"#EF553B\",\"#00cc96\",\"#ab63fa\",\"#FFA15A\",\"#19d3f3\",\"#FF6692\",\"#B6E880\",\"#FF97FF\",\"#FECB52\"],\"font\":{\"color\":\"#2a3f5f\"},\"geo\":{\"bgcolor\":\"white\",\"lakecolor\":\"white\",\"landcolor\":\"#E5ECF6\",\"showlakes\":true,\"showland\":true,\"subunitcolor\":\"white\"},\"hoverlabel\":{\"align\":\"left\"},\"hovermode\":\"closest\",\"mapbox\":{\"style\":\"light\"},\"paper_bgcolor\":\"white\",\"plot_bgcolor\":\"#E5ECF6\",\"polar\":{\"angularaxis\":{\"gridcolor\":\"white\",\"linecolor\":\"white\",\"ticks\":\"\"},\"bgcolor\":\"#E5ECF6\",\"radialaxis\":{\"gridcolor\":\"white\",\"linecolor\":\"white\",\"ticks\":\"\"}},\"scene\":{\"xaxis\":{\"backgroundcolor\":\"#E5ECF6\",\"gridcolor\":\"white\",\"gridwidth\":2,\"linecolor\":\"white\",\"showbackground\":true,\"ticks\":\"\",\"zerolinecolor\":\"white\"},\"yaxis\":{\"backgroundcolor\":\"#E5ECF6\",\"gridcolor\":\"white\",\"gridwidth\":2,\"linecolor\":\"white\",\"showbackground\":true,\"ticks\":\"\",\"zerolinecolor\":\"white\"},\"zaxis\":{\"backgroundcolor\":\"#E5ECF6\",\"gridcolor\":\"white\",\"gridwidth\":2,\"linecolor\":\"white\",\"showbackground\":true,\"ticks\":\"\",\"zerolinecolor\":\"white\"}},\"shapedefaults\":{\"line\":{\"color\":\"#2a3f5f\"}},\"ternary\":{\"aaxis\":{\"gridcolor\":\"white\",\"linecolor\":\"white\",\"ticks\":\"\"},\"baxis\":{\"gridcolor\":\"white\",\"linecolor\":\"white\",\"ticks\":\"\"},\"bgcolor\":\"#E5ECF6\",\"caxis\":{\"gridcolor\":\"white\",\"linecolor\":\"white\",\"ticks\":\"\"}},\"title\":{\"x\":0.05},\"xaxis\":{\"automargin\":true,\"gridcolor\":\"white\",\"linecolor\":\"white\",\"ticks\":\"\",\"title\":{\"standoff\":15},\"zerolinecolor\":\"white\",\"zerolinewidth\":2},\"yaxis\":{\"automargin\":true,\"gridcolor\":\"white\",\"linecolor\":\"white\",\"ticks\":\"\",\"title\":{\"standoff\":15},\"zerolinecolor\":\"white\",\"zerolinewidth\":2}}},\"xaxis\":{\"anchor\":\"y\",\"domain\":[0.0,1.0],\"title\":{\"text\":\"child_mort\"}},\"yaxis\":{\"anchor\":\"x\",\"domain\":[0.0,1.0],\"title\":{\"text\":\"health\"}},\"legend\":{\"title\":{\"text\":\"country\"},\"tracegroupgap\":0},\"margin\":{\"t\":60}},                        {\"responsive\": true}                    ).then(function(){\n",
              "                            \n",
              "var gd = document.getElementById('e7b9918e-7235-4029-896e-6a0e424b991b');\n",
              "var x = new MutationObserver(function (mutations, observer) {{\n",
              "        var display = window.getComputedStyle(gd).display;\n",
              "        if (!display || display === 'none') {{\n",
              "            console.log([gd, 'removed!']);\n",
              "            Plotly.purge(gd);\n",
              "            observer.disconnect();\n",
              "        }}\n",
              "}});\n",
              "\n",
              "// Listen for the removal of the full notebook cells\n",
              "var notebookContainer = gd.closest('#notebook-container');\n",
              "if (notebookContainer) {{\n",
              "    x.observe(notebookContainer, {childList: true});\n",
              "}}\n",
              "\n",
              "// Listen for the clearing of the current output cell\n",
              "var outputEl = gd.closest('.output');\n",
              "if (outputEl) {{\n",
              "    x.observe(outputEl, {childList: true});\n",
              "}}\n",
              "\n",
              "                        })                };                            </script>        </div>\n",
              "</body>\n",
              "</html>"
            ]
          },
          "metadata": {}
        }
      ],
      "source": [
        "exp.scatter(data_frame=df,x = 'child_mort',y = 'health',color='country')"
      ]
    },
    {
      "cell_type": "code",
      "source": [
        "data = scaled_df.drop('country',axis = 1)"
      ],
      "metadata": {
        "id": "2zX0b0mB74Vl"
      },
      "execution_count": 12,
      "outputs": []
    },
    {
      "cell_type": "code",
      "execution_count": 13,
      "metadata": {
        "id": "B1hmR88_6AxF"
      },
      "outputs": [],
      "source": [
        "# Calculate sum of squared distances\n",
        "ssd = []\n",
        "K = range(1,10)\n",
        "for k in K:\n",
        "    km = KMeans(n_clusters=k)\n",
        "    km = km.fit(data)\n",
        "    ssd.append(km.inertia_)"
      ]
    },
    {
      "cell_type": "code",
      "source": [
        "plt.figure(figsize=(10,6))\n",
        "plt.plot(K, ssd, 'bx-')\n",
        "plt.xlabel('k')\n",
        "plt.ylabel('ssd')\n",
        "plt.title('Elbow Method For Optimal k')\n",
        "plt.show()\n"
      ],
      "metadata": {
        "colab": {
          "base_uri": "https://localhost:8080/",
          "height": 404
        },
        "id": "rxXqWJED73pW",
        "outputId": "527080d3-8e44-4881-f472-2d78e0fc9a8b"
      },
      "execution_count": 14,
      "outputs": [
        {
          "output_type": "display_data",
          "data": {
            "text/plain": [
              "<Figure size 720x432 with 1 Axes>"
            ],
            "image/png": "[encoded data removed]"
          },
          "metadata": {
            "needs_background": "light"
          }
        }
      ]
    },
    {
      "cell_type": "code",
      "source": [
        "kmean = KMeans(n_clusters=3)\n",
        "kmean.fit(data)"
      ],
      "metadata": {
        "colab": {
          "base_uri": "https://localhost:8080/"
        },
        "id": "SkPBtjIt7zF3",
        "outputId": "7b22eed4-e037-4354-e10a-0840cb209f32"
      },
      "execution_count": 15,
      "outputs": [
        {
          "output_type": "execute_result",
          "data": {
            "text/plain": [
              "KMeans(n_clusters=3)"
            ]
          },
          "metadata": {},
          "execution_count": 15
        }
      ]
    },
    {
      "cell_type": "code",
      "source": [
        "pred = kmean.labels_\n",
        "print(pred)"
      ],
      "metadata": {
        "colab": {
          "base_uri": "https://localhost:8080/"
        },
        "id": "iJfZPuvM8AOY",
        "outputId": "797b874f-012b-4fb0-e882-9ff0abde65b6"
      },
      "execution_count": 16,
      "outputs": [
        {
          "output_type": "stream",
          "name": "stdout",
          "text": [
            "[1 0 0 1 0 0 0 2 2 0 0 0 0 0 0 2 0 1 0 0 0 0 0 2 0 1 1 0 1 2 0 1 1 0 0 0 1\n",
            " 1 1 0 1 0 2 2 2 0 0 0 0 1 1 0 0 2 2 1 1 0 2 1 2 0 0 1 1 0 1 0 2 0 0 0 1 2\n",
            " 2 2 0 2 0 0 1 1 2 0 1 0 0 1 1 0 0 2 0 1 1 0 0 1 2 1 0 0 0 0 0 0 1 0 1 0 2\n",
            " 2 1 1 2 0 1 0 0 0 0 0 2 2 0 0 1 0 0 1 0 0 1 2 2 2 1 0 2 2 0 0 1 0 2 2 0 1\n",
            " 0 1 1 0 0 0 0 1 0 2 2 2 0 0 0 0 0 1 1]\n"
          ]
        }
      ]
    },
    {
      "cell_type": "code",
      "source": [
        "exp.scatter(data_frame= df,x = 'gdpp',y = 'income',color=kmean.labels_)\n"
      ],
      "metadata": {
        "colab": {
          "base_uri": "https://localhost:8080/",
          "height": 542
        },
        "id": "v7liNqtl8Cvj",
        "outputId": "7daa222d-7389-4a8e-9b64-54f7e7273aef"
      },
      "execution_count": 17,
      "outputs": [
        {
          "output_type": "display_data",
          "data": {
            "text/html": [
              "<html>\n",
              "<head><meta charset=\"utf-8\" /></head>\n",
              "<body>\n",
              "    <div>            <script src=\"https://cdnjs.cloudflare.com/ajax/libs/mathjax/2.7.5/MathJax.js?config=TeX-AMS-MML_SVG\"></script><script type=\"text/javascript\">if (window.MathJax) {MathJax.Hub.Config({SVG: {font: \"STIX-Web\"}});}</script>                <script type=\"text/javascript\">window.PlotlyConfig = {MathJaxConfig: 'local'};</script>\n",
              "        <script src=\"https://cdn.plot.ly/plotly-2.8.3.min.js\"></script>                <div id=\"927904c5-2b3b-4b74-ad87-ce6d008ab9d5\" class=\"plotly-graph-div\" style=\"height:525px; width:100%;\"></div>            <script type=\"text/javascript\">                                    window.PLOTLYENV=window.PLOTLYENV || {};                                    if (document.getElementById(\"927904c5-2b3b-4b74-ad87-ce6d008ab9d5\")) {                    Plotly.newPlot(                        \"927904c5-2b3b-4b74-ad87-ce6d008ab9d5\",                        [{\"hovertemplate\":\"gdpp=%{x}<br>income=%{y}<br>color=%{marker.color}<extra></extra>\",\"legendgroup\":\"\",\"marker\":{\"color\":[1,0,0,1,0,0,0,2,2,0,0,0,0,0,0,2,0,1,0,0,0,0,0,2,0,1,1,0,1,2,0,1,1,0,0,0,1,1,1,0,1,0,2,2,2,0,0,0,0,1,1,0,0,2,2,1,1,0,2,1,2,0,0,1,1,0,1,0,2,0,0,0,1,2,2,2,0,2,0,0,1,1,2,0,1,0,0,1,1,0,0,2,0,1,1,0,0,1,2,1,0,0,0,0,0,0,1,0,1,0,2,2,1,1,2,0,1,0,0,0,0,0,2,2,0,0,1,0,0,1,0,0,1,2,2,2,1,0,2,2,0,0,1,0,2,2,0,1,0,1,1,0,0,0,0,1,0,2,2,2,0,0,0,0,0,1,1],\"coloraxis\":\"coloraxis\",\"symbol\":\"circle\"},\"mode\":\"markers\",\"name\":\"\",\"orientation\":\"v\",\"showlegend\":false,\"x\":[553,4090,4460,3530,12200,10300,3220,51900,46900,5840,28000,20700,758,16000,6030,44400,4340,758,2180,1980,4610,6350,11200,35300,6840,575,231,786,1310,47400,3310,446,897,12900,4560,6250,769,334,2740,8200,1220,13500,30800,19800,58000,5450,4660,2600,2990,17100,482,14600,3650,46200,40600,8750,562,2960,41800,1310,26900,7370,2830,648,547,3040,662,13100,41900,1350,3110,6530,4500,48700,30600,35800,4680,44500,3680,9070,967,1490,38500,880,1140,11300,8860,1170,327,12100,12000,105000,4540,413,459,9070,7100,708,21100,1200,8000,2860,1630,2650,6680,2830,419,988,5190,592,50300,33700,348,2330,87800,19300,1040,8080,3230,5020,2130,12600,22500,70300,8230,10700,563,3450,19300,1000,5410,10800,399,46600,16600,23400,1290,7280,22100,30700,2810,6230,1480,8300,52100,74600,738,702,5080,3600,488,3550,4140,10700,4440,595,2970,35000,38900,48400,11900,1380,2970,13500,1310,1310,1460],\"xaxis\":\"x\",\"y\":[1610,9930,12900,5900,19100,18700,6700,41400,43200,16000,22900,41100,2440,15300,16200,41100,7880,1820,6420,5410,9720,13300,14500,80600,15300,1430,764,2520,2660,40700,5830,888,1930,19400,9530,10900,1410,609,5190,13000,2690,20100,33900,28300,44000,11100,9350,9860,7300,33700,1420,22700,7350,39800,36900,15400,1660,6730,40400,3060,28700,11200,6710,1190,1390,5840,1500,22300,38800,4410,8430,17400,12700,45700,29600,36200,8000,35800,9470,20100,2480,1730,75200,2790,3980,18300,16300,2380,700,29600,21100,91700,11400,1390,1030,21100,10500,1870,28300,3320,15900,3340,3910,7710,14000,6440,918,3720,8460,1990,45500,32300,814,5150,62300,45300,4280,15400,7290,9960,5600,21800,27200,125000,17800,23100,1350,5400,45400,2180,12700,20400,1220,72100,25200,28700,1780,12000,30400,32500,8560,9920,3370,14200,42900,55500,2110,2090,13500,1850,1210,4980,10400,18000,9940,1540,7820,57600,36200,49400,17100,4240,2950,16500,4490,4480,3280],\"yaxis\":\"y\",\"type\":\"scatter\"}],                        {\"template\":{\"data\":{\"bar\":[{\"error_x\":{\"color\":\"#2a3f5f\"},\"error_y\":{\"color\":\"#2a3f5f\"},\"marker\":{\"line\":{\"color\":\"#E5ECF6\",\"width\":0.5},\"pattern\":{\"fillmode\":\"overlay\",\"size\":10,\"solidity\":0.2}},\"type\":\"bar\"}],\"barpolar\":[{\"marker\":{\"line\":{\"color\":\"#E5ECF6\",\"width\":0.5},\"pattern\":{\"fillmode\":\"overlay\",\"size\":10,\"solidity\":0.2}},\"type\":\"barpolar\"}],\"carpet\":[{\"aaxis\":{\"endlinecolor\":\"#2a3f5f\",\"gridcolor\":\"white\",\"linecolor\":\"white\",\"minorgridcolor\":\"white\",\"startlinecolor\":\"#2a3f5f\"},\"baxis\":{\"endlinecolor\":\"#2a3f5f\",\"gridcolor\":\"white\",\"linecolor\":\"white\",\"minorgridcolor\":\"white\",\"startlinecolor\":\"#2a3f5f\"},\"type\":\"carpet\"}],\"choropleth\":[{\"colorbar\":{\"outlinewidth\":0,\"ticks\":\"\"},\"type\":\"choropleth\"}],\"contour\":[{\"colorbar\":{\"outlinewidth\":0,\"ticks\":\"\"},\"colorscale\":[[0.0,\"#0d0887\"],[0.1111111111111111,\"#46039f\"],[0.2222222222222222,\"#7201a8\"],[0.3333333333333333,\"#9c179e\"],[0.4444444444444444,\"#bd3786\"],[0.5555555555555556,\"#d8576b\"],[0.6666666666666666,\"#ed7953\"],[0.7777777777777778,\"#fb9f3a\"],[0.8888888888888888,\"#fdca26\"],[1.0,\"#f0f921\"]],\"type\":\"contour\"}],\"contourcarpet\":[{\"colorbar\":{\"outlinewidth\":0,\"ticks\":\"\"},\"type\":\"contourcarpet\"}],\"heatmap\":[{\"colorbar\":{\"outlinewidth\":0,\"ticks\":\"\"},\"colorscale\":[[0.0,\"#0d0887\"],[0.1111111111111111,\"#46039f\"],[0.2222222222222222,\"#7201a8\"],[0.3333333333333333,\"#9c179e\"],[0.4444444444444444,\"#bd3786\"],[0.5555555555555556,\"#d8576b\"],[0.6666666666666666,\"#ed7953\"],[0.7777777777777778,\"#fb9f3a\"],[0.8888888888888888,\"#fdca26\"],[1.0,\"#f0f921\"]],\"type\":\"heatmap\"}],\"heatmapgl\":[{\"colorbar\":{\"outlinewidth\":0,\"ticks\":\"\"},\"colorscale\":[[0.0,\"#0d0887\"],[0.1111111111111111,\"#46039f\"],[0.2222222222222222,\"#7201a8\"],[0.3333333333333333,\"#9c179e\"],[0.4444444444444444,\"#bd3786\"],[0.5555555555555556,\"#d8576b\"],[0.6666666666666666,\"#ed7953\"],[0.7777777777777778,\"#fb9f3a\"],[0.8888888888888888,\"#fdca26\"],[1.0,\"#f0f921\"]],\"type\":\"heatmapgl\"}],\"histogram\":[{\"marker\":{\"pattern\":{\"fillmode\":\"overlay\",\"size\":10,\"solidity\":0.2}},\"type\":\"histogram\"}],\"histogram2d\":[{\"colorbar\":{\"outlinewidth\":0,\"ticks\":\"\"},\"colorscale\":[[0.0,\"#0d0887\"],[0.1111111111111111,\"#46039f\"],[0.2222222222222222,\"#7201a8\"],[0.3333333333333333,\"#9c179e\"],[0.4444444444444444,\"#bd3786\"],[0.5555555555555556,\"#d8576b\"],[0.6666666666666666,\"#ed7953\"],[0.7777777777777778,\"#fb9f3a\"],[0.8888888888888888,\"#fdca26\"],[1.0,\"#f0f921\"]],\"type\":\"histogram2d\"}],\"histogram2dcontour\":[{\"colorbar\":{\"outlinewidth\":0,\"ticks\":\"\"},\"colorscale\":[[0.0,\"#0d0887\"],[0.1111111111111111,\"#46039f\"],[0.2222222222222222,\"#7201a8\"],[0.3333333333333333,\"#9c179e\"],[0.4444444444444444,\"#bd3786\"],[0.5555555555555556,\"#d8576b\"],[0.6666666666666666,\"#ed7953\"],[0.7777777777777778,\"#fb9f3a\"],[0.8888888888888888,\"#fdca26\"],[1.0,\"#f0f921\"]],\"type\":\"histogram2dcontour\"}],\"mesh3d\":[{\"colorbar\":{\"outlinewidth\":0,\"ticks\":\"\"},\"type\":\"mesh3d\"}],\"parcoords\":[{\"line\":{\"colorbar\":{\"outlinewidth\":0,\"ticks\":\"\"}},\"type\":\"parcoords\"}],\"pie\":[{\"automargin\":true,\"type\":\"pie\"}],\"scatter\":[{\"marker\":{\"colorbar\":{\"outlinewidth\":0,\"ticks\":\"\"}},\"type\":\"scatter\"}],\"scatter3d\":[{\"line\":{\"colorbar\":{\"outlinewidth\":0,\"ticks\":\"\"}},\"marker\":{\"colorbar\":{\"outlinewidth\":0,\"ticks\":\"\"}},\"type\":\"scatter3d\"}],\"scattercarpet\":[{\"marker\":{\"colorbar\":{\"outlinewidth\":0,\"ticks\":\"\"}},\"type\":\"scattercarpet\"}],\"scattergeo\":[{\"marker\":{\"colorbar\":{\"outlinewidth\":0,\"ticks\":\"\"}},\"type\":\"scattergeo\"}],\"scattergl\":[{\"marker\":{\"colorbar\":{\"outlinewidth\":0,\"ticks\":\"\"}},\"type\":\"scattergl\"}],\"scattermapbox\":[{\"marker\":{\"colorbar\":{\"outlinewidth\":0,\"ticks\":\"\"}},\"type\":\"scattermapbox\"}],\"scatterpolar\":[{\"marker\":{\"colorbar\":{\"outlinewidth\":0,\"ticks\":\"\"}},\"type\":\"scatterpolar\"}],\"scatterpolargl\":[{\"marker\":{\"colorbar\":{\"outlinewidth\":0,\"ticks\":\"\"}},\"type\":\"scatterpolargl\"}],\"scatterternary\":[{\"marker\":{\"colorbar\":{\"outlinewidth\":0,\"ticks\":\"\"}},\"type\":\"scatterternary\"}],\"surface\":[{\"colorbar\":{\"outlinewidth\":0,\"ticks\":\"\"},\"colorscale\":[[0.0,\"#0d0887\"],[0.1111111111111111,\"#46039f\"],[0.2222222222222222,\"#7201a8\"],[0.3333333333333333,\"#9c179e\"],[0.4444444444444444,\"#bd3786\"],[0.5555555555555556,\"#d8576b\"],[0.6666666666666666,\"#ed7953\"],[0.7777777777777778,\"#fb9f3a\"],[0.8888888888888888,\"#fdca26\"],[1.0,\"#f0f921\"]],\"type\":\"surface\"}],\"table\":[{\"cells\":{\"fill\":{\"color\":\"#EBF0F8\"},\"line\":{\"color\":\"white\"}},\"header\":{\"fill\":{\"color\":\"#C8D4E3\"},\"line\":{\"color\":\"white\"}},\"type\":\"table\"}]},\"layout\":{\"annotationdefaults\":{\"arrowcolor\":\"#2a3f5f\",\"arrowhead\":0,\"arrowwidth\":1},\"autotypenumbers\":\"strict\",\"coloraxis\":{\"colorbar\":{\"outlinewidth\":0,\"ticks\":\"\"}},\"colorscale\":{\"diverging\":[[0,\"#8e0152\"],[0.1,\"#c51b7d\"],[0.2,\"#de77ae\"],[0.3,\"#f1b6da\"],[0.4,\"#fde0ef\"],[0.5,\"#f7f7f7\"],[0.6,\"#e6f5d0\"],[0.7,\"#b8e186\"],[0.8,\"#7fbc41\"],[0.9,\"#4d9221\"],[1,\"#276419\"]],\"sequential\":[[0.0,\"#0d0887\"],[0.1111111111111111,\"#46039f\"],[0.2222222222222222,\"#7201a8\"],[0.3333333333333333,\"#9c179e\"],[0.4444444444444444,\"#bd3786\"],[0.5555555555555556,\"#d8576b\"],[0.6666666666666666,\"#ed7953\"],[0.7777777777777778,\"#fb9f3a\"],[0.8888888888888888,\"#fdca26\"],[1.0,\"#f0f921\"]],\"sequentialminus\":[[0.0,\"#0d0887\"],[0.1111111111111111,\"#46039f\"],[0.2222222222222222,\"#7201a8\"],[0.3333333333333333,\"#9c179e\"],[0.4444444444444444,\"#bd3786\"],[0.5555555555555556,\"#d8576b\"],[0.6666666666666666,\"#ed7953\"],[0.7777777777777778,\"#fb9f3a\"],[0.8888888888888888,\"#fdca26\"],[1.0,\"#f0f921\"]]},\"colorway\":[\"#636efa\",\"#EF553B\",\"#00cc96\",\"#ab63fa\",\"#FFA15A\",\"#19d3f3\",\"#FF6692\",\"#B6E880\",\"#FF97FF\",\"#FECB52\"],\"font\":{\"color\":\"#2a3f5f\"},\"geo\":{\"bgcolor\":\"white\",\"lakecolor\":\"white\",\"landcolor\":\"#E5ECF6\",\"showlakes\":true,\"showland\":true,\"subunitcolor\":\"white\"},\"hoverlabel\":{\"align\":\"left\"},\"hovermode\":\"closest\",\"mapbox\":{\"style\":\"light\"},\"paper_bgcolor\":\"white\",\"plot_bgcolor\":\"#E5ECF6\",\"polar\":{\"angularaxis\":{\"gridcolor\":\"white\",\"linecolor\":\"white\",\"ticks\":\"\"},\"bgcolor\":\"#E5ECF6\",\"radialaxis\":{\"gridcolor\":\"white\",\"linecolor\":\"white\",\"ticks\":\"\"}},\"scene\":{\"xaxis\":{\"backgroundcolor\":\"#E5ECF6\",\"gridcolor\":\"white\",\"gridwidth\":2,\"linecolor\":\"white\",\"showbackground\":true,\"ticks\":\"\",\"zerolinecolor\":\"white\"},\"yaxis\":{\"backgroundcolor\":\"#E5ECF6\",\"gridcolor\":\"white\",\"gridwidth\":2,\"linecolor\":\"white\",\"showbackground\":true,\"ticks\":\"\",\"zerolinecolor\":\"white\"},\"zaxis\":{\"backgroundcolor\":\"#E5ECF6\",\"gridcolor\":\"white\",\"gridwidth\":2,\"linecolor\":\"white\",\"showbackground\":true,\"ticks\":\"\",\"zerolinecolor\":\"white\"}},\"shapedefaults\":{\"line\":{\"color\":\"#2a3f5f\"}},\"ternary\":{\"aaxis\":{\"gridcolor\":\"white\",\"linecolor\":\"white\",\"ticks\":\"\"},\"baxis\":{\"gridcolor\":\"white\",\"linecolor\":\"white\",\"ticks\":\"\"},\"bgcolor\":\"#E5ECF6\",\"caxis\":{\"gridcolor\":\"white\",\"linecolor\":\"white\",\"ticks\":\"\"}},\"title\":{\"x\":0.05},\"xaxis\":{\"automargin\":true,\"gridcolor\":\"white\",\"linecolor\":\"white\",\"ticks\":\"\",\"title\":{\"standoff\":15},\"zerolinecolor\":\"white\",\"zerolinewidth\":2},\"yaxis\":{\"automargin\":true,\"gridcolor\":\"white\",\"linecolor\":\"white\",\"ticks\":\"\",\"title\":{\"standoff\":15},\"zerolinecolor\":\"white\",\"zerolinewidth\":2}}},\"xaxis\":{\"anchor\":\"y\",\"domain\":[0.0,1.0],\"title\":{\"text\":\"gdpp\"}},\"yaxis\":{\"anchor\":\"x\",\"domain\":[0.0,1.0],\"title\":{\"text\":\"income\"}},\"coloraxis\":{\"colorbar\":{\"title\":{\"text\":\"color\"}},\"colorscale\":[[0.0,\"#0d0887\"],[0.1111111111111111,\"#46039f\"],[0.2222222222222222,\"#7201a8\"],[0.3333333333333333,\"#9c179e\"],[0.4444444444444444,\"#bd3786\"],[0.5555555555555556,\"#d8576b\"],[0.6666666666666666,\"#ed7953\"],[0.7777777777777778,\"#fb9f3a\"],[0.8888888888888888,\"#fdca26\"],[1.0,\"#f0f921\"]]},\"legend\":{\"tracegroupgap\":0},\"margin\":{\"t\":60}},                        {\"responsive\": true}                    ).then(function(){\n",
              "                            \n",
              "var gd = document.getElementById('927904c5-2b3b-4b74-ad87-ce6d008ab9d5');\n",
              "var x = new MutationObserver(function (mutations, observer) {{\n",
              "        var display = window.getComputedStyle(gd).display;\n",
              "        if (!display || display === 'none') {{\n",
              "            console.log([gd, 'removed!']);\n",
              "            Plotly.purge(gd);\n",
              "            observer.disconnect();\n",
              "        }}\n",
              "}});\n",
              "\n",
              "// Listen for the removal of the full notebook cells\n",
              "var notebookContainer = gd.closest('#notebook-container');\n",
              "if (notebookContainer) {{\n",
              "    x.observe(notebookContainer, {childList: true});\n",
              "}}\n",
              "\n",
              "// Listen for the clearing of the current output cell\n",
              "var outputEl = gd.closest('.output');\n",
              "if (outputEl) {{\n",
              "    x.observe(outputEl, {childList: true});\n",
              "}}\n",
              "\n",
              "                        })                };                            </script>        </div>\n",
              "</body>\n",
              "</html>"
            ]
          },
          "metadata": {}
        }
      ]
    },
    {
      "cell_type": "code",
      "source": [
        "pca = PCA(n_components=2)"
      ],
      "metadata": {
        "id": "R9jeQrw58E5y"
      },
      "execution_count": 18,
      "outputs": []
    },
    {
      "cell_type": "code",
      "source": [
        "pca_model = pca.fit_transform(data)"
      ],
      "metadata": {
        "id": "uuZ0_lzu8Rvm"
      },
      "execution_count": 19,
      "outputs": []
    },
    {
      "cell_type": "code",
      "source": [
        "data_transform = pd.DataFrame(data = pca_model, columns = ['PCA_X', 'PCA_Y'])"
      ],
      "metadata": {
        "id": "L7ucxWbt8Td1"
      },
      "execution_count": 24,
      "outputs": []
    },
    {
      "cell_type": "code",
      "source": [
        "data_transform['Cluster'] = pred"
      ],
      "metadata": {
        "id": "ny5OLgHY8V7r"
      },
      "execution_count": 25,
      "outputs": []
    },
    {
      "cell_type": "code",
      "source": [
        "data_transform.head()"
      ],
      "metadata": {
        "colab": {
          "base_uri": "https://localhost:8080/",
          "height": 206
        },
        "id": "kA-xoSAu8YXq",
        "outputId": "6fb9cb07-abb5-4a26-ea23-74a8880d885f"
      },
      "execution_count": 26,
      "outputs": [
        {
          "output_type": "execute_result",
          "data": {
            "text/plain": [
              "      PCA_X     PCA_Y  Cluster\n",
              "0 -0.599078  0.095490        1\n",
              "1  0.158474 -0.212092        0\n",
              "2  0.003686 -0.135867        0\n",
              "3 -0.650235  0.275975        1\n",
              "4  0.200711 -0.064662        0"
            ],
            "text/html": [
              "\n",
              "  <div id=\"df-416fbc24-dcbe-4ffe-a8b4-1be0d239f20d\">\n",
              "    <div class=\"colab-df-container\">\n",
              "      <div>\n",
              "<style scoped>\n",
              "    .dataframe tbody tr th:only-of-type {\n",
              "        vertical-align: middle;\n",
              "    }\n",
              "\n",
              "    .dataframe tbody tr th {\n",
              "        vertical-align: top;\n",
              "    }\n",
              "\n",
              "    .dataframe thead th {\n",
              "        text-align: right;\n",
              "    }\n",
              "</style>\n",
              "<table border=\"1\" class=\"dataframe\">\n",
              "  <thead>\n",
              "    <tr style=\"text-align: right;\">\n",
              "      <th></th>\n",
              "      <th>PCA_X</th>\n",
              "      <th>PCA_Y</th>\n",
              "      <th>Cluster</th>\n",
              "    </tr>\n",
              "  </thead>\n",
              "  <tbody>\n",
              "    <tr>\n",
              "      <th>0</th>\n",
              "      <td>-0.599078</td>\n",
              "      <td>0.095490</td>\n",
              "      <td>1</td>\n",
              "    </tr>\n",
              "    <tr>\n",
              "      <th>1</th>\n",
              "      <td>0.158474</td>\n",
              "      <td>-0.212092</td>\n",
              "      <td>0</td>\n",
              "    </tr>\n",
              "    <tr>\n",
              "      <th>2</th>\n",
              "      <td>0.003686</td>\n",
              "      <td>-0.135867</td>\n",
              "      <td>0</td>\n",
              "    </tr>\n",
              "    <tr>\n",
              "      <th>3</th>\n",
              "      <td>-0.650235</td>\n",
              "      <td>0.275975</td>\n",
              "      <td>1</td>\n",
              "    </tr>\n",
              "    <tr>\n",
              "      <th>4</th>\n",
              "      <td>0.200711</td>\n",
              "      <td>-0.064662</td>\n",
              "      <td>0</td>\n",
              "    </tr>\n",
              "  </tbody>\n",
              "</table>\n",
              "</div>\n",
              "      <button class=\"colab-df-convert\" onclick=\"convertToInteractive('df-416fbc24-dcbe-4ffe-a8b4-1be0d239f20d')\"\n",
              "              title=\"Convert this dataframe to an interactive table.\"\n",
              "              style=\"display:none;\">\n",
              "        \n",
              "  <svg xmlns=\"http://www.w3.org/2000/svg\" height=\"24px\"viewBox=\"0 0 24 24\"\n",
              "       width=\"24px\">\n",
              "    <path d=\"M0 0h24v24H0V0z\" fill=\"none\"/>\n",
              "    <path d=\"M18.56 5.44l.94 2.06.94-2.06 2.06-.94-2.06-.94-.94-2.06-.94 2.06-2.06.94zm-11 1L8.5 8.5l.94-2.06 2.06-.94-2.06-.94L8.5 2.5l-.94 2.06-2.06.94zm10 10l.94 2.06.94-2.06 2.06-.94-2.06-.94-.94-2.06-.94 2.06-2.06.94z\"/><path d=\"M17.41 7.96l-1.37-1.37c-.4-.4-.92-.59-1.43-.59-.52 0-1.04.2-1.43.59L10.3 9.45l-7.72 7.72c-.78.78-.78 2.05 0 2.83L4 21.41c.39.39.9.59 1.41.59.51 0 1.02-.2 1.41-.59l7.78-7.78 2.81-2.81c.8-.78.8-2.07 0-2.86zM5.41 20L4 18.59l7.72-7.72 1.47 1.35L5.41 20z\"/>\n",
              "  </svg>\n",
              "      </button>\n",
              "      \n",
              "  <style>\n",
              "    .colab-df-container {\n",
              "      display:flex;\n",
              "      flex-wrap:wrap;\n",
              "      gap: 12px;\n",
              "    }\n",
              "\n",
              "    .colab-df-convert {\n",
              "      background-color: #E8F0FE;\n",
              "      border: none;\n",
              "      border-radius: 50%;\n",
              "      cursor: pointer;\n",
              "      display: none;\n",
              "      fill: #1967D2;\n",
              "      height: 32px;\n",
              "      padding: 0 0 0 0;\n",
              "      width: 32px;\n",
              "    }\n",
              "\n",
              "    .colab-df-convert:hover {\n",
              "      background-color: #E2EBFA;\n",
              "      box-shadow: 0px 1px 2px rgba(60, 64, 67, 0.3), 0px 1px 3px 1px rgba(60, 64, 67, 0.15);\n",
              "      fill: #174EA6;\n",
              "    }\n",
              "\n",
              "    [theme=dark] .colab-df-convert {\n",
              "      background-color: #3B4455;\n",
              "      fill: #D2E3FC;\n",
              "    }\n",
              "\n",
              "    [theme=dark] .colab-df-convert:hover {\n",
              "      background-color: #434B5C;\n",
              "      box-shadow: 0px 1px 3px 1px rgba(0, 0, 0, 0.15);\n",
              "      filter: drop-shadow(0px 1px 2px rgba(0, 0, 0, 0.3));\n",
              "      fill: #FFFFFF;\n",
              "    }\n",
              "  </style>\n",
              "\n",
              "      <script>\n",
              "        const buttonEl =\n",
              "          document.querySelector('#df-416fbc24-dcbe-4ffe-a8b4-1be0d239f20d button.colab-df-convert');\n",
              "        buttonEl.style.display =\n",
              "          google.colab.kernel.accessAllowed ? 'block' : 'none';\n",
              "\n",
              "        async function convertToInteractive(key) {\n",
              "          const element = document.querySelector('#df-416fbc24-dcbe-4ffe-a8b4-1be0d239f20d');\n",
              "          const dataTable =\n",
              "            await google.colab.kernel.invokeFunction('convertToInteractive',\n",
              "                                                     [key], {});\n",
              "          if (!dataTable) return;\n",
              "\n",
              "          const docLinkHtml = 'Like what you see? Visit the ' +\n",
              "            '<a target=\"_blank\" href=https://colab.research.google.com/notebooks/data_table.ipynb>data table notebook</a>'\n",
              "            + ' to learn more about interactive tables.';\n",
              "          element.innerHTML = '';\n",
              "          dataTable['output_type'] = 'display_data';\n",
              "          await google.colab.output.renderOutput(dataTable, element);\n",
              "          const docLink = document.createElement('div');\n",
              "          docLink.innerHTML = docLinkHtml;\n",
              "          element.appendChild(docLink);\n",
              "        }\n",
              "      </script>\n",
              "    </div>\n",
              "  </div>\n",
              "  "
            ]
          },
          "metadata": {},
          "execution_count": 26
        }
      ]
    },
    {
      "cell_type": "code",
      "source": [
        "plt.figure(figsize=(8,8))\n",
        "g = sns.scatterplot(data=data_transform, x='PCA_X', y='PCA_Y', palette=sns.color_palette()[:3], hue='Cluster')\n",
        "title = plt.title('Countries Clusters with PCA')"
      ],
      "metadata": {
        "colab": {
          "base_uri": "https://localhost:8080/",
          "height": 514
        },
        "id": "zuM14VtZ8aQU",
        "outputId": "2d6689f1-8c1b-40db-a15e-9effe49ae668"
      },
      "execution_count": 27,
      "outputs": [
        {
          "output_type": "display_data",
          "data": {
            "text/plain": [
              "<Figure size 576x576 with 1 Axes>"
            ],
            "image/png": "[encoded data removed]"
          },
          "metadata": {
            "needs_background": "light"
          }
        }
      ]
    },
    {
      "cell_type": "code",
      "source": [
        ""
      ],
      "metadata": {
        "id": "Ieabn1t88cvD"
      },
      "execution_count": null,
      "outputs": []
    }
  ],
  "metadata": {
    "kernelspec": {
      "display_name": "Python 3",
      "language": "python",
      "name": "python3"
    },
    "language_info": {
      "codemirror_mode": {
        "name": "ipython",
        "version": 3
      },
      "file_extension": ".py",
      "mimetype": "text/x-python",
      "name": "python",
      "nbconvert_exporter": "python",
      "pygments_lexer": "ipython3",
      "version": "3.8.5"
    },
    "colab": {
      "name": "K_Means Clustering.ipynb",
      "provenance": [],
      "collapsed_sections": []
    }
  },
  "nbformat": 4,
  "nbformat_minor": 0
}