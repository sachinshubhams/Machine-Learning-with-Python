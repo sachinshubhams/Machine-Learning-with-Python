{
 "cells": [
  {
   "cell_type": "markdown",
   "metadata": {},
   "source": [
    "<b>Autoregressive Integrated Moving Average (ARIMA):</b> The Autoregressive Integrated Moving Average (ARIMA) model is the method is suitable for univariate time series with trend and without seasonal components which is the combination of the differenced autoregressive model with the moving average model.\n",
    "The AR part of ARIMA indicates that the time series is regressed on its own past data. The MA part of ARIMA indicates that the forecast error is a linear combination of past respective errors."
   ]
  },
  {
   "cell_type": "markdown",
   "metadata": {},
   "source": [
    "<b>Simple Exponential Smoothing (SES):</b> Simple Exponential Smoothing (SES) is a forecasting method for univariate time series without trend and seasonal components which is not based on the analysis of the entire historical time series, rather than it uses the weighted averages of past observations where the weights of older observations exponentially decrease."
   ]
  },
  {
   "cell_type": "code",
   "execution_count": 1,
   "metadata": {},
   "outputs": [],
   "source": [
    "#importing the libraries\n",
    "import numpy as np\n",
    "import pandas as pd\n",
    "import matplotlib.pyplot as plt\n",
    "%matplotlib inline\n",
    "import seaborn as sns\n",
    "import warnings\n",
    "warnings.filterwarnings(\"ignore\")"
   ]
  },
  {
   "cell_type": "code",
   "execution_count": 2,
   "metadata": {},
   "outputs": [
    {
     "data": {
      "text/html": [
       "<div>\n",
       "<style scoped>\n",
       "    .dataframe tbody tr th:only-of-type {\n",
       "        vertical-align: middle;\n",
       "    }\n",
       "\n",
       "    .dataframe tbody tr th {\n",
       "        vertical-align: top;\n",
       "    }\n",
       "\n",
       "    .dataframe thead th {\n",
       "        text-align: right;\n",
       "    }\n",
       "</style>\n",
       "<table border=\"1\" class=\"dataframe\">\n",
       "  <thead>\n",
       "    <tr style=\"text-align: right;\">\n",
       "      <th></th>\n",
       "      <th>Oil</th>\n",
       "      <th>2018-10-01 00:00:00</th>\n",
       "      <th>1329.6</th>\n",
       "    </tr>\n",
       "  </thead>\n",
       "  <tbody>\n",
       "    <tr>\n",
       "      <th>0</th>\n",
       "      <td>Oil</td>\n",
       "      <td>2018-10-02</td>\n",
       "      <td>1435.2</td>\n",
       "    </tr>\n",
       "    <tr>\n",
       "      <th>1</th>\n",
       "      <td>Oil</td>\n",
       "      <td>2018-10-03</td>\n",
       "      <td>1372.1</td>\n",
       "    </tr>\n",
       "    <tr>\n",
       "      <th>2</th>\n",
       "      <td>Oil</td>\n",
       "      <td>2018-10-04</td>\n",
       "      <td>1371.7</td>\n",
       "    </tr>\n",
       "    <tr>\n",
       "      <th>3</th>\n",
       "      <td>Oil</td>\n",
       "      <td>2018-10-05</td>\n",
       "      <td>1200.0</td>\n",
       "    </tr>\n",
       "    <tr>\n",
       "      <th>4</th>\n",
       "      <td>Oil</td>\n",
       "      <td>2018-10-06</td>\n",
       "      <td>978.7</td>\n",
       "    </tr>\n",
       "  </tbody>\n",
       "</table>\n",
       "</div>"
      ],
      "text/plain": [
       "   Oil 2018-10-01 00:00:00  1329.6\n",
       "0  Oil          2018-10-02  1435.2\n",
       "1  Oil          2018-10-03  1372.1\n",
       "2  Oil          2018-10-04  1371.7\n",
       "3  Oil          2018-10-05  1200.0\n",
       "4  Oil          2018-10-06   978.7"
      ]
     },
     "execution_count": 2,
     "metadata": {},
     "output_type": "execute_result"
    }
   ],
   "source": [
    "df=pd.read_excel('ExampleOilMeasurementDaily 2.xlsx')\n",
    "df.head()"
   ]
  },
  {
   "cell_type": "code",
   "execution_count": 3,
   "metadata": {},
   "outputs": [
    {
     "data": {
      "text/plain": [
       "Oil                    0\n",
       "2018-10-01 00:00:00    0\n",
       "1329.6                 0\n",
       "dtype: int64"
      ]
     },
     "execution_count": 3,
     "metadata": {},
     "output_type": "execute_result"
    }
   ],
   "source": [
    "#check for null\n",
    "df.isnull().sum()"
   ]
  },
  {
   "cell_type": "code",
   "execution_count": 4,
   "metadata": {},
   "outputs": [],
   "source": [
    "data=df.iloc[:, 2].values"
   ]
  },
  {
   "cell_type": "code",
   "execution_count": 5,
   "metadata": {},
   "outputs": [
    {
     "data": {
      "text/plain": [
       "array([1435.2, 1372.1, 1371.7, ...,  119.9,  114.1,  109.9])"
      ]
     },
     "execution_count": 5,
     "metadata": {},
     "output_type": "execute_result"
    }
   ],
   "source": [
    "data"
   ]
  },
  {
   "cell_type": "code",
   "execution_count": 6,
   "metadata": {},
   "outputs": [],
   "source": [
    "#ARIMA\n",
    "from statsmodels.tsa.arima.model import ARIMA\n",
    "#model\n",
    "model_arima = ARIMA(data, order=(1, 1, 1))"
   ]
  },
  {
   "cell_type": "code",
   "execution_count": 7,
   "metadata": {},
   "outputs": [],
   "source": [
    "#fit the model\n",
    "model_fit_arima = model_arima.fit()"
   ]
  },
  {
   "cell_type": "code",
   "execution_count": 8,
   "metadata": {},
   "outputs": [
    {
     "data": {
      "text/plain": [
       "array([109.38413406])"
      ]
     },
     "execution_count": 8,
     "metadata": {},
     "output_type": "execute_result"
    }
   ],
   "source": [
    "# make prediction\n",
    "yhat_arima = model_fit_arima.predict(len(data), len(data), typ='levels')\n",
    "yhat_arima"
   ]
  },
  {
   "cell_type": "code",
   "execution_count": 9,
   "metadata": {},
   "outputs": [
    {
     "name": "stdout",
     "output_type": "stream",
     "text": [
      "Next day predicted change using ARIMA is  -0.4693957573189911\n"
     ]
    }
   ],
   "source": [
    "#next day predicted change is\n",
    "forecast_percent_change_arima = ((yhat_arima[0]/data[-1])-1)*100.0\n",
    "print('Next day predicted change using ARIMA is ',forecast_percent_change_arima)"
   ]
  },
  {
   "cell_type": "code",
   "execution_count": 10,
   "metadata": {},
   "outputs": [],
   "source": [
    "#SES\n",
    "from statsmodels.tsa.holtwinters import SimpleExpSmoothing\n",
    "#model\n",
    "model_ses = SimpleExpSmoothing(data)"
   ]
  },
  {
   "cell_type": "code",
   "execution_count": 11,
   "metadata": {},
   "outputs": [],
   "source": [
    "#fit the model\n",
    "model_fit_ses = model_ses.fit()"
   ]
  },
  {
   "cell_type": "code",
   "execution_count": 12,
   "metadata": {},
   "outputs": [
    {
     "data": {
      "text/plain": [
       "array([110.59892713])"
      ]
     },
     "execution_count": 12,
     "metadata": {},
     "output_type": "execute_result"
    }
   ],
   "source": [
    "# make prediction\n",
    "yhat_ses = model_fit_ses.predict(len(data), len(data))\n",
    "yhat_ses"
   ]
  },
  {
   "cell_type": "code",
   "execution_count": 13,
   "metadata": {},
   "outputs": [
    {
     "name": "stdout",
     "output_type": "stream",
     "text": [
      "Next day predicted change using SES is  0.6359664471357496\n"
     ]
    }
   ],
   "source": [
    "# next day predicted change is\n",
    "forecast_percent_change_ses = ((yhat_ses[0]/data[-1])-1)*100.0\n",
    "print('Next day predicted change using SES is ',forecast_percent_change_ses)"
   ]
  }
 ],
 "metadata": {
  "kernelspec": {
   "display_name": "Python 3",
   "language": "python",
   "name": "python3"
  },
  "language_info": {
   "codemirror_mode": {
    "name": "ipython",
    "version": 3
   },
   "file_extension": ".py",
   "mimetype": "text/x-python",
   "name": "python",
   "nbconvert_exporter": "python",
   "pygments_lexer": "ipython3",
   "version": "3.8.5"
  }
 },
 "nbformat": 4,
 "nbformat_minor": 4
}
